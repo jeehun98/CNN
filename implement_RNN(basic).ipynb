{
  "nbformat": 4,
  "nbformat_minor": 0,
  "metadata": {
    "colab": {
      "provenance": []
    },
    "kernelspec": {
      "name": "python3",
      "display_name": "Python 3"
    },
    "language_info": {
      "name": "python"
    }
  },
  "cells": [
    {
      "cell_type": "code",
      "execution_count": null,
      "metadata": {
        "id": "GjWYglY6i8on"
      },
      "outputs": [],
      "source": [
        "import numpy as np"
      ]
    },
    {
      "cell_type": "markdown",
      "source": [
        "입력 데이터 생성"
      ],
      "metadata": {
        "id": "20gCi3beG_AL"
      }
    },
    {
      "cell_type": "code",
      "source": [
        "input = np.random.random(16).reshape(4,4)\n",
        "input"
      ],
      "metadata": {
        "colab": {
          "base_uri": "https://localhost:8080/"
        },
        "id": "G0c7aWLdx8VG",
        "outputId": "4ec4c1a7-55d5-40ce-bec4-d55cd2420be7"
      },
      "execution_count": null,
      "outputs": [
        {
          "output_type": "execute_result",
          "data": {
            "text/plain": [
              "array([[0.69630105, 0.98062141, 0.31126132, 0.60385103],\n",
              "       [0.41160081, 0.65936305, 0.67091633, 0.79464866],\n",
              "       [0.25562064, 0.3772345 , 0.0579391 , 0.97562818],\n",
              "       [0.74501807, 0.378548  , 0.8962382 , 0.21717298]])"
            ]
          },
          "metadata": {},
          "execution_count": 2
        }
      ]
    },
    {
      "cell_type": "markdown",
      "source": [
        "가중치 커널 생성"
      ],
      "metadata": {
        "id": "FlZdNk6SHSXN"
      }
    },
    {
      "cell_type": "code",
      "source": [
        "w = np.random.random(4).reshape(2,2)\n",
        "w"
      ],
      "metadata": {
        "colab": {
          "base_uri": "https://localhost:8080/"
        },
        "id": "-TpJqq7aHQHA",
        "outputId": "05758c7d-1682-43a4-afaa-fc767cc9da11"
      },
      "execution_count": null,
      "outputs": [
        {
          "output_type": "execute_result",
          "data": {
            "text/plain": [
              "array([[0.47915972, 0.0276349 ],\n",
              "       [0.21120514, 0.91373281]])"
            ]
          },
          "metadata": {},
          "execution_count": 3
        }
      ]
    },
    {
      "cell_type": "code",
      "source": [
        "result_arr = []\n",
        "\n",
        "for matrix_row in range(input.shape[0]-w.shape[0]+1):\n",
        "  for matrix_col in range(input.shape[1]-w.shape[1]+1):\n",
        "    result = []\n",
        "    for w_row in range(w.shape[0]):\n",
        "      for w_col in range(w.shape[1]):\n",
        "        result.append(input[matrix_row+w_row,matrix_col+w_col] * w[w_row, w_col])\n",
        "    result_arr.append(np.sum(result))"
      ],
      "metadata": {
        "id": "MRzVN3rnMERs"
      },
      "execution_count": null,
      "outputs": []
    },
    {
      "cell_type": "code",
      "source": [
        "result = np.array(result_arr).reshape(input.shape[0]-w.shape[0]+1,-1)\n",
        "result"
      ],
      "metadata": {
        "colab": {
          "base_uri": "https://localhost:8080/"
        },
        "id": "RZmoFECWMOf6",
        "outputId": "1cbefc8e-2662-4564-ddff-a5d84d2c99a4"
      },
      "execution_count": null,
      "outputs": [
        {
          "output_type": "execute_result",
          "data": {
            "text/plain": [
              "array([[1.05015265, 1.23077507, 1.03362878],\n",
              "       [0.61412389, 0.46709564, 1.24713663],\n",
              "       [0.63615132, 1.08123025, 0.44245166]])"
            ]
          },
          "metadata": {},
          "execution_count": 5
        }
      ]
    },
    {
      "cell_type": "code",
      "source": [],
      "metadata": {
        "id": "aks7ndX8MO9z"
      },
      "execution_count": null,
      "outputs": []
    }
  ]
}