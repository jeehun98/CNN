{
  "nbformat": 4,
  "nbformat_minor": 0,
  "metadata": {
    "colab": {
      "provenance": []
    },
    "kernelspec": {
      "name": "python3",
      "display_name": "Python 3"
    },
    "language_info": {
      "name": "python"
    }
  },
  "cells": [
    {
      "cell_type": "code",
      "execution_count": 332,
      "metadata": {
        "id": "pzxF8zdSbJPv"
      },
      "outputs": [],
      "source": []
    },
    {
      "cell_type": "code",
      "execution_count": 333,
      "metadata": {
        "id": "sOOrnfrEqOys"
      },
      "outputs": [],
      "source": [
        "import numpy as np"
      ]
    },
    {
      "cell_type": "code",
      "source": [
        "from tensorflow.keras import datasets\n",
        "\n",
        "(X_tn0, y_tn0), (X_te0, y_te0) = datasets.mnist.load_data()"
      ],
      "metadata": {
        "id": "9ODSxTJ9-jQR"
      },
      "execution_count": 334,
      "outputs": []
    },
    {
      "cell_type": "code",
      "source": [
        "input = X_tn0[0]\n",
        "input.shape"
      ],
      "metadata": {
        "colab": {
          "base_uri": "https://localhost:8080/"
        },
        "id": "Dp8WqHOEvspn",
        "outputId": "1aaf584e-6eba-4450-b86e-e1c7c25784af"
      },
      "execution_count": 335,
      "outputs": [
        {
          "output_type": "execute_result",
          "data": {
            "text/plain": [
              "(28, 28)"
            ]
          },
          "metadata": {},
          "execution_count": 335
        }
      ]
    },
    {
      "cell_type": "code",
      "source": [
        "target = np.array(y_tn0[0]).reshape(1, -1)\n",
        "target.shape"
      ],
      "metadata": {
        "colab": {
          "base_uri": "https://localhost:8080/"
        },
        "id": "kG6neEWLvhNo",
        "outputId": "e5191492-644e-4c4f-942f-23f39e749988"
      },
      "execution_count": 336,
      "outputs": [
        {
          "output_type": "execute_result",
          "data": {
            "text/plain": [
              "(1, 1)"
            ]
          },
          "metadata": {},
          "execution_count": 336
        }
      ]
    },
    {
      "cell_type": "code",
      "source": [
        "class PADDING:\n",
        "\n",
        "  def padding(self, input, padding_size):\n",
        "    \"\"\"\n",
        "    input : 입력 데이터\n",
        "    padding_size : padding 연산 후의 데이터 크기\n",
        "    \"\"\"\n",
        "    if(padding_size == 0):\n",
        "      return input\n",
        "\n",
        "    padding_matrix = np.zeros((input.shape[0] + padding_size, input.shape[1] + padding_size))\n",
        "\n",
        "    for i in range(input.shape[0]):\n",
        "      for j in range(input.shape[1]):\n",
        "        padding_matrix[i + int(padding_size / 2)][j + int(padding_size / 2)] = input[i][j]\n",
        "    \n",
        "    return padding_matrix\n"
      ],
      "metadata": {
        "id": "V9ODurlEQrST"
      },
      "execution_count": 337,
      "outputs": []
    },
    {
      "cell_type": "code",
      "source": [
        "class POOLING:\n",
        "  pad = PADDING()\n",
        "\n",
        "  pool_result = []\n",
        "\n",
        "  def max_pooling(self, input, pooling_size):\n",
        "    \"\"\"\n",
        "    input : 입력 데이터\n",
        "    pooling_size : pooling size\n",
        "    \"\"\"\n",
        "    self.pool_result = []\n",
        "    \n",
        "    pooling_matrix = self.pad.padding(input, input.shape[0] % pooling_size)\n",
        "\n",
        "    for col in range(0, pooling_matrix.shape[0], pooling_size):\n",
        "      for row in range(0, pooling_matrix.shape[1], pooling_size):\n",
        "        pool_arr = []\n",
        "        for pooling_col in range(pooling_size):\n",
        "          for pooling_row in range(pooling_size):        \n",
        "            pool_arr.append(pooling_matrix[pooling_col + col, pooling_row + row])\n",
        "        self.pool_result.append(max(pool_arr))\n",
        "    \n",
        "    # 연산 결과를 크기에 맞게 바꿔준다.\n",
        "    return np.array(self.pool_result).reshape(int(pooling_matrix.shape[0] / pooling_size), -1)\n",
        "\n"
      ],
      "metadata": {
        "id": "heCrPvwjX1Aw"
      },
      "execution_count": 338,
      "outputs": []
    },
    {
      "cell_type": "code",
      "source": [
        "class CNN:\n",
        "\n",
        "  # 필터의 개수만큼 가중치가 존재\n",
        "  cnn_weight = []\n",
        "\n",
        "  # 가중치 연산 결과\n",
        "  cnn_result = []\n",
        "  \n",
        "  # 패딩\n",
        "  pad = PADDING()\n",
        "\n",
        "  # 풀링\n",
        "  pool = POOLING()\n",
        "\n",
        "  # 데이터 크기\n",
        "  data_size = 0\n",
        "\n",
        "  # 레이어 구현\n",
        "  layer_result = []\n",
        "\n",
        "  # 현재 레이어 \n",
        "  layer = 0\n",
        "  \n",
        "  def cal_cnn(self, input, target, filter_size, filter_count):\n",
        "    # 입력 받은 필터의 개수만큼 반복\n",
        "    for i in range(filter_count):\n",
        "\n",
        "      # 필터 크기에 맞는 임의의 가중치 생성\n",
        "      weight = np.random.random(filter_size * filter_size).reshape(filter_size, filter_size)\n",
        "      \n",
        "      self.cnn_weight.append(weight)\n",
        "      \n",
        "      # 합성곱 연산 결과가 저장된다.\n",
        "      result_arr = []\n",
        "\n",
        "      for col in range(input.shape[0] - weight.shape[0] + 1):\n",
        "        for row in range(input.shape[1] - weight.shape[1] + 1):\n",
        "          result = []\n",
        "          for w_col in range(weight.shape[0]):\n",
        "            for w_row in range(weight.shape[1]):\n",
        "              result.append(input[col + w_col, row + w_row ] * weight[w_col, w_row])\n",
        "          result_arr.append(np.sum(result))\n",
        "\n",
        "      # 연산 결과를 크기에 맞게 바꿔준다.\n",
        "      result_arr = np.array(result_arr).reshape(input.shape[0] - weight.shape[0] + 1, -1)\n",
        "\n",
        "      # 연산 결과의 저장\n",
        "      self.cnn_result.append(result_arr)\n",
        "    \n",
        "    # 층에다가 결과를 저장한다.\n",
        "    self.layer_result.append(self.cnn_reuslt)\n",
        "\n",
        "    # 레이어의 추가\n",
        "    self.layer = self.layer +1\n",
        "\n",
        "  def same_padding_cnn(self, input, filter_size, filter_count):\n",
        "    self.cnn_result\n",
        "    \n",
        "    # 데이터 크기 지정정\n",
        "    self.data_size = input.shape[0]\n",
        "\n",
        "    # 입력 받은 필터의 개수만큼 반복\n",
        "    for i in range(filter_count):\n",
        "\n",
        "      # 필터 크기에 맞는 임의의 가중치 생성\n",
        "      weight = np.random.random(filter_size * filter_size).reshape(filter_size, filter_size)\n",
        "      \n",
        "      self.cnn_weight.append(weight)\n",
        "      \n",
        "      # 합성곱 연산 결과가 저장된다.\n",
        "      result_arr = []\n",
        "\n",
        "      for col in range(input.shape[0] - weight.shape[0] + 1):\n",
        "        for row in range(input.shape[1] - weight.shape[1] + 1):\n",
        "          result = []\n",
        "          for w_col in range(weight.shape[0]):\n",
        "            for w_row in range(weight.shape[1]):\n",
        "              result.append(input[col + w_col, row + w_row ] * weight[w_col, w_row])\n",
        "          result_arr.append(np.sum(result))\n",
        "\n",
        "      # 연산 결과를 크기에 맞게 바꿔준다.\n",
        "      result_arr = np.array(result_arr).reshape(input.shape[0] - weight.shape[0] + 1, -1)\n",
        "\n",
        "      result_arr = self.pad.padding(result_arr, input.shape[0] - result_arr.shape[0])\n",
        "\n",
        "      # 연산 결과의 저장\n",
        "      self.cnn_result.append(result_arr)\n",
        "    \n",
        "    # 층에다가 결과를 저장한다.\n",
        "    self.layer_result.append(self.cnn_result)\n",
        "\n",
        "    # 레이어의 추가\n",
        "    self.layer = self.layer +1\n",
        "\n",
        "  def pooling(self, pooling_size):\n",
        "\n",
        "    print(len(self.layer_result[self.layer-1]))\n",
        "\n",
        "    # 필터의 개수만큼 반복,\n",
        "    for i in range(len(self.layer_result[self.layer - 1])):\n",
        "      print(i)\n",
        "      # numpy array 의 반환환\n",
        "      pooling_result = self.pool.max_pooling(self.layer_result[self.layer - 1][i], pooling_size)\n",
        "\n",
        "      self.cnn_result.append(pooling_result)\n",
        "    \n",
        "    self.layer_result.append(self.cnn_result)\n",
        "\n",
        "    # 레이어의 추가\n",
        "    self.layer = self.layer +1\n",
        "\n",
        "  def cnn_result_reset(self):\n",
        "    self.cnn_result = []\n"
      ],
      "metadata": {
        "id": "-cGe0Svl3Nu8"
      },
      "execution_count": 339,
      "outputs": []
    },
    {
      "cell_type": "code",
      "source": [
        "cnn = CNN()"
      ],
      "metadata": {
        "id": "uxX2c54fmrsb"
      },
      "execution_count": 340,
      "outputs": []
    },
    {
      "cell_type": "code",
      "source": [
        "cnn.same_padding_cnn(input, 7, 64)"
      ],
      "metadata": {
        "id": "-hOTaSWOudZY"
      },
      "execution_count": 341,
      "outputs": []
    },
    {
      "cell_type": "code",
      "source": [
        "print(len(cnn.cnn_result),len(cnn.cnn_weight))"
      ],
      "metadata": {
        "colab": {
          "base_uri": "https://localhost:8080/"
        },
        "id": "V8SAxea7uizf",
        "outputId": "a157a9ad-00c4-472b-d690-f5a058f1f8d6"
      },
      "execution_count": 342,
      "outputs": [
        {
          "output_type": "stream",
          "name": "stdout",
          "text": [
            "64 64\n"
          ]
        }
      ]
    },
    {
      "cell_type": "code",
      "source": [
        "cnn.cnn_result[0].shape"
      ],
      "metadata": {
        "colab": {
          "base_uri": "https://localhost:8080/"
        },
        "id": "71bbogcs1vL7",
        "outputId": "1f510356-d5a4-4189-cb28-caa180a53caf"
      },
      "execution_count": 343,
      "outputs": [
        {
          "output_type": "execute_result",
          "data": {
            "text/plain": [
              "(28, 28)"
            ]
          },
          "metadata": {},
          "execution_count": 343
        }
      ]
    },
    {
      "cell_type": "code",
      "source": [
        "len(cnn.cnn_result)"
      ],
      "metadata": {
        "colab": {
          "base_uri": "https://localhost:8080/"
        },
        "id": "sS40mEVHtzIP",
        "outputId": "56f9084a-2586-4ab5-c3f9-0573d8b35088"
      },
      "execution_count": 344,
      "outputs": [
        {
          "output_type": "execute_result",
          "data": {
            "text/plain": [
              "64"
            ]
          },
          "metadata": {},
          "execution_count": 344
        }
      ]
    },
    {
      "cell_type": "code",
      "source": [
        "len(cnn.layer_result[0])"
      ],
      "metadata": {
        "colab": {
          "base_uri": "https://localhost:8080/"
        },
        "id": "wB5V9N14uJQJ",
        "outputId": "6de0c16c-8418-4401-a6d9-e4625e485893"
      },
      "execution_count": 345,
      "outputs": [
        {
          "output_type": "execute_result",
          "data": {
            "text/plain": [
              "64"
            ]
          },
          "metadata": {},
          "execution_count": 345
        }
      ]
    },
    {
      "cell_type": "code",
      "source": [
        "cnn.pooling(2)"
      ],
      "metadata": {
        "colab": {
          "base_uri": "https://localhost:8080/"
        },
        "id": "guoAjaXWwIrG",
        "outputId": "4e69fafc-dbf3-41a7-9e14-10df0db02458"
      },
      "execution_count": 346,
      "outputs": [
        {
          "output_type": "stream",
          "name": "stdout",
          "text": [
            "64\n",
            "0\n",
            "1\n",
            "2\n",
            "3\n",
            "4\n",
            "5\n",
            "6\n",
            "7\n",
            "8\n",
            "9\n",
            "10\n",
            "11\n",
            "12\n",
            "13\n",
            "14\n",
            "15\n",
            "16\n",
            "17\n",
            "18\n",
            "19\n",
            "20\n",
            "21\n",
            "22\n",
            "23\n",
            "24\n",
            "25\n",
            "26\n",
            "27\n",
            "28\n",
            "29\n",
            "30\n",
            "31\n",
            "32\n",
            "33\n",
            "34\n",
            "35\n",
            "36\n",
            "37\n",
            "38\n",
            "39\n",
            "40\n",
            "41\n",
            "42\n",
            "43\n",
            "44\n",
            "45\n",
            "46\n",
            "47\n",
            "48\n",
            "49\n",
            "50\n",
            "51\n",
            "52\n",
            "53\n",
            "54\n",
            "55\n",
            "56\n",
            "57\n",
            "58\n",
            "59\n",
            "60\n",
            "61\n",
            "62\n",
            "63\n"
          ]
        }
      ]
    },
    {
      "cell_type": "code",
      "source": [
        "len(cnn.layer_result[1])"
      ],
      "metadata": {
        "colab": {
          "base_uri": "https://localhost:8080/"
        },
        "id": "Gp-NzdKXuVQH",
        "outputId": "c2341baa-6dc5-4cec-b8a2-568c7ab82d9a"
      },
      "execution_count": 348,
      "outputs": [
        {
          "output_type": "execute_result",
          "data": {
            "text/plain": [
              "128"
            ]
          },
          "metadata": {},
          "execution_count": 348
        }
      ]
    },
    {
      "cell_type": "code",
      "source": [],
      "metadata": {
        "id": "yXYgTdRiuY3r"
      },
      "execution_count": 347,
      "outputs": []
    }
  ]
}