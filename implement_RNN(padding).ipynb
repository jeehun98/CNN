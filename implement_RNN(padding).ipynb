{
  "nbformat": 4,
  "nbformat_minor": 0,
  "metadata": {
    "colab": {
      "provenance": []
    },
    "kernelspec": {
      "name": "python3",
      "display_name": "Python 3"
    },
    "language_info": {
      "name": "python"
    }
  },
  "cells": [
    {
      "cell_type": "code",
      "execution_count": 17,
      "metadata": {
        "id": "GjWYglY6i8on"
      },
      "outputs": [],
      "source": [
        "import numpy as np"
      ]
    },
    {
      "cell_type": "markdown",
      "source": [
        "입력 데이터 생성"
      ],
      "metadata": {
        "id": "20gCi3beG_AL"
      }
    },
    {
      "cell_type": "code",
      "source": [
        "input = np.random.random(25).reshape(5,5)\n",
        "input"
      ],
      "metadata": {
        "colab": {
          "base_uri": "https://localhost:8080/"
        },
        "id": "G0c7aWLdx8VG",
        "outputId": "461ed3f6-1eaa-4b6f-e8bc-300ee3733dd4"
      },
      "execution_count": 18,
      "outputs": [
        {
          "output_type": "execute_result",
          "data": {
            "text/plain": [
              "array([[0.45957714, 0.26181405, 0.22633556, 0.29436161, 0.67993989],\n",
              "       [0.54672573, 0.03661348, 0.47898127, 0.71440504, 0.67809006],\n",
              "       [0.98097749, 0.36643927, 0.12704123, 0.47874706, 0.23620229],\n",
              "       [0.34961404, 0.17677752, 0.07871377, 0.96997658, 0.72019312],\n",
              "       [0.94218155, 0.39934473, 0.52830907, 0.02773984, 0.73193416]])"
            ]
          },
          "metadata": {},
          "execution_count": 18
        }
      ]
    },
    {
      "cell_type": "markdown",
      "source": [
        "가중치 커널 생성"
      ],
      "metadata": {
        "id": "FlZdNk6SHSXN"
      }
    },
    {
      "cell_type": "code",
      "source": [
        "w = np.random.random(9).reshape(3,3)\n",
        "w"
      ],
      "metadata": {
        "colab": {
          "base_uri": "https://localhost:8080/"
        },
        "id": "-TpJqq7aHQHA",
        "outputId": "a6030270-5ad2-49c7-e53c-f90c07d7dc12"
      },
      "execution_count": 19,
      "outputs": [
        {
          "output_type": "execute_result",
          "data": {
            "text/plain": [
              "array([[0.87415688, 0.46307588, 0.45638776],\n",
              "       [0.05627318, 0.75015595, 0.61465668],\n",
              "       [0.28512713, 0.59426342, 0.57374799]])"
            ]
          },
          "metadata": {},
          "execution_count": 19
        }
      ]
    },
    {
      "cell_type": "code",
      "source": [
        "result_arr = []\n",
        "\n",
        "for matrix_row in range(input.shape[0]-w.shape[0]+1):\n",
        "  for matrix_col in range(input.shape[1]-w.shape[1]+1):\n",
        "    result = []\n",
        "    for w_row in range(w.shape[0]):\n",
        "      for w_col in range(w.shape[1]):\n",
        "        result.append(input[matrix_row+w_row,matrix_col+w_col] * w[w_row, w_col])\n",
        "    result_arr.append(np.sum(result))"
      ],
      "metadata": {
        "id": "1_uskwNaHRkb"
      },
      "execution_count": 20,
      "outputs": []
    },
    {
      "cell_type": "code",
      "source": [
        "result = np.array(result_arr).reshape(input.shape[0]-w.shape[0]+1,-1)\n",
        "result"
      ],
      "metadata": {
        "colab": {
          "base_uri": "https://localhost:8080/"
        },
        "id": "1Ji3BxWfHSzH",
        "outputId": "26edff93-bd02-4b6e-ffd9-78fcfbd02111"
      },
      "execution_count": 21,
      "outputs": [
        {
          "output_type": "execute_result",
          "data": {
            "text/plain": [
              "array([[1.54927433, 1.72316286, 2.08038773],\n",
              "       [1.37155486, 1.64374572, 2.58254219],\n",
              "       [2.09493777, 1.7065819 , 2.20235048]])"
            ]
          },
          "metadata": {},
          "execution_count": 21
        }
      ]
    },
    {
      "cell_type": "markdown",
      "source": [
        "패딩"
      ],
      "metadata": {
        "id": "U98xPvoN3P0F"
      }
    },
    {
      "cell_type": "code",
      "source": [
        "padding_matrix = np.zeros((input.shape[0]+w.shape[0]-1, input.shape[1]+w.shape[1]-1))\n",
        "padding_matrix"
      ],
      "metadata": {
        "colab": {
          "base_uri": "https://localhost:8080/"
        },
        "id": "ac6fJ0NH0nUx",
        "outputId": "027023fd-1c15-4e1c-afd0-ea196d8fe0e9"
      },
      "execution_count": 22,
      "outputs": [
        {
          "output_type": "execute_result",
          "data": {
            "text/plain": [
              "array([[0., 0., 0., 0., 0., 0., 0.],\n",
              "       [0., 0., 0., 0., 0., 0., 0.],\n",
              "       [0., 0., 0., 0., 0., 0., 0.],\n",
              "       [0., 0., 0., 0., 0., 0., 0.],\n",
              "       [0., 0., 0., 0., 0., 0., 0.],\n",
              "       [0., 0., 0., 0., 0., 0., 0.],\n",
              "       [0., 0., 0., 0., 0., 0., 0.]])"
            ]
          },
          "metadata": {},
          "execution_count": 22
        }
      ]
    },
    {
      "cell_type": "code",
      "source": [
        "input"
      ],
      "metadata": {
        "id": "mhu-yh_73erx",
        "colab": {
          "base_uri": "https://localhost:8080/"
        },
        "outputId": "e0848cac-fea7-4979-bf43-aebdb435d9eb"
      },
      "execution_count": 23,
      "outputs": [
        {
          "output_type": "execute_result",
          "data": {
            "text/plain": [
              "array([[0.45957714, 0.26181405, 0.22633556, 0.29436161, 0.67993989],\n",
              "       [0.54672573, 0.03661348, 0.47898127, 0.71440504, 0.67809006],\n",
              "       [0.98097749, 0.36643927, 0.12704123, 0.47874706, 0.23620229],\n",
              "       [0.34961404, 0.17677752, 0.07871377, 0.96997658, 0.72019312],\n",
              "       [0.94218155, 0.39934473, 0.52830907, 0.02773984, 0.73193416]])"
            ]
          },
          "metadata": {},
          "execution_count": 23
        }
      ]
    },
    {
      "cell_type": "code",
      "source": [
        "for i in range(input.shape[0]):\n",
        "  for j in range(input.shape[1]):\n",
        "    padding_matrix[i+1][j+1] = input[i][j]"
      ],
      "metadata": {
        "id": "mEw3INlB-lST"
      },
      "execution_count": 24,
      "outputs": []
    },
    {
      "cell_type": "code",
      "source": [
        "padding_matrix"
      ],
      "metadata": {
        "colab": {
          "base_uri": "https://localhost:8080/"
        },
        "id": "b4vKRz04_1-r",
        "outputId": "e2d058fb-8a47-4ca1-bc02-11c224a09290"
      },
      "execution_count": 25,
      "outputs": [
        {
          "output_type": "execute_result",
          "data": {
            "text/plain": [
              "array([[0.        , 0.        , 0.        , 0.        , 0.        ,\n",
              "        0.        , 0.        ],\n",
              "       [0.        , 0.45957714, 0.26181405, 0.22633556, 0.29436161,\n",
              "        0.67993989, 0.        ],\n",
              "       [0.        , 0.54672573, 0.03661348, 0.47898127, 0.71440504,\n",
              "        0.67809006, 0.        ],\n",
              "       [0.        , 0.98097749, 0.36643927, 0.12704123, 0.47874706,\n",
              "        0.23620229, 0.        ],\n",
              "       [0.        , 0.34961404, 0.17677752, 0.07871377, 0.96997658,\n",
              "        0.72019312, 0.        ],\n",
              "       [0.        , 0.94218155, 0.39934473, 0.52830907, 0.02773984,\n",
              "        0.73193416, 0.        ],\n",
              "       [0.        , 0.        , 0.        , 0.        , 0.        ,\n",
              "        0.        , 0.        ]])"
            ]
          },
          "metadata": {},
          "execution_count": 25
        }
      ]
    }
  ]
}