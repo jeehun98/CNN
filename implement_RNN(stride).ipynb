{
  "nbformat": 4,
  "nbformat_minor": 0,
  "metadata": {
    "colab": {
      "provenance": []
    },
    "kernelspec": {
      "name": "python3",
      "display_name": "Python 3"
    },
    "language_info": {
      "name": "python"
    }
  },
  "cells": [
    {
      "cell_type": "code",
      "execution_count": 1,
      "metadata": {
        "id": "GjWYglY6i8on"
      },
      "outputs": [],
      "source": [
        "import numpy as np"
      ]
    },
    {
      "cell_type": "markdown",
      "source": [
        "입력 데이터 생성"
      ],
      "metadata": {
        "id": "20gCi3beG_AL"
      }
    },
    {
      "cell_type": "code",
      "source": [
        "input = np.random.random(16).reshape(4,4)\n",
        "input"
      ],
      "metadata": {
        "colab": {
          "base_uri": "https://localhost:8080/"
        },
        "id": "G0c7aWLdx8VG",
        "outputId": "e873bb30-53c2-4087-df3a-89d7d8035064"
      },
      "execution_count": 2,
      "outputs": [
        {
          "output_type": "execute_result",
          "data": {
            "text/plain": [
              "array([[0.44347376, 0.29017623, 0.62991373, 0.50209371],\n",
              "       [0.63625638, 0.58489094, 0.8153437 , 0.67830812],\n",
              "       [0.99001811, 0.15216859, 0.23262359, 0.32014961],\n",
              "       [0.21619336, 0.33241801, 0.92530904, 0.02216692]])"
            ]
          },
          "metadata": {},
          "execution_count": 2
        }
      ]
    },
    {
      "cell_type": "markdown",
      "source": [
        "가중치 커널 생성"
      ],
      "metadata": {
        "id": "FlZdNk6SHSXN"
      }
    },
    {
      "cell_type": "code",
      "source": [
        "w = np.random.random(4).reshape(2,2)\n",
        "w"
      ],
      "metadata": {
        "colab": {
          "base_uri": "https://localhost:8080/"
        },
        "id": "-TpJqq7aHQHA",
        "outputId": "dd9fba01-da6c-459a-dba2-92988205ddfe"
      },
      "execution_count": 3,
      "outputs": [
        {
          "output_type": "execute_result",
          "data": {
            "text/plain": [
              "array([[0.90716266, 0.06596578],\n",
              "       [0.82393991, 0.79375542]])"
            ]
          },
          "metadata": {},
          "execution_count": 3
        }
      ]
    },
    {
      "cell_type": "code",
      "source": [
        "result_arr = []\n",
        "stride_row = 2\n",
        "stride_col = 2\n",
        "\n",
        "for matrix_row in range(0, input.shape[0]-w.shape[0]+1, stride_row):\n",
        "  for matrix_col in range(0, input.shape[1]-w.shape[1]+1, stride_col):\n",
        "    result = []\n",
        "    for w_row in range(w.shape[0]):\n",
        "      for w_col in range(w.shape[1]):\n",
        "        result.append(input[matrix_row+w_row,matrix_col+w_col] * w[w_row, w_col])\n",
        "    result_arr.append(np.sum(result))"
      ],
      "metadata": {
        "id": "EAtVmVA-DMzb"
      },
      "execution_count": 4,
      "outputs": []
    },
    {
      "cell_type": "code",
      "source": [
        "result = np.array(result_arr).reshape(int(input.shape[0]-w.shape[0]+1/2),-1)\n",
        "result"
      ],
      "metadata": {
        "colab": {
          "base_uri": "https://localhost:8080/"
        },
        "id": "jCsWL7DXvm0U",
        "outputId": "550d01bb-b675-4c91-fb06-1ba3180dd8ca"
      },
      "execution_count": 5,
      "outputs": [
        {
          "output_type": "execute_result",
          "data": {
            "text/plain": [
              "array([[1.40994192, 1.81476018],\n",
              "       [1.35013431, 1.01214052]])"
            ]
          },
          "metadata": {},
          "execution_count": 5
        }
      ]
    }
  ]
}