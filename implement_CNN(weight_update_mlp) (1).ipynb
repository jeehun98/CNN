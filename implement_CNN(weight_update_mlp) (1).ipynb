{
  "nbformat": 4,
  "nbformat_minor": 0,
  "metadata": {
    "colab": {
      "provenance": []
    },
    "kernelspec": {
      "name": "python3",
      "display_name": "Python 3"
    },
    "language_info": {
      "name": "python"
    }
  },
  "cells": [
    {
      "cell_type": "code",
      "execution_count": 137,
      "metadata": {
        "id": "sOOrnfrEqOys"
      },
      "outputs": [],
      "source": [
        "import numpy as np"
      ]
    },
    {
      "cell_type": "code",
      "source": [
        "from tensorflow.keras import datasets\n",
        "\n",
        "(X_tn0, y_tn0), (X_te0, y_te0) = datasets.mnist.load_data()"
      ],
      "metadata": {
        "id": "9ODSxTJ9-jQR"
      },
      "execution_count": 138,
      "outputs": []
    },
    {
      "cell_type": "code",
      "source": [
        "input = X_tn0[0]\n",
        "input.shape"
      ],
      "metadata": {
        "colab": {
          "base_uri": "https://localhost:8080/"
        },
        "id": "Dp8WqHOEvspn",
        "outputId": "7b2c213d-606d-4043-be7c-da0b5e4f6d30"
      },
      "execution_count": 139,
      "outputs": [
        {
          "output_type": "execute_result",
          "data": {
            "text/plain": [
              "(28, 28)"
            ]
          },
          "metadata": {},
          "execution_count": 139
        }
      ]
    },
    {
      "cell_type": "code",
      "source": [
        "target = np.array(y_tn0[0]).reshape(1, -1)\n",
        "target"
      ],
      "metadata": {
        "colab": {
          "base_uri": "https://localhost:8080/"
        },
        "id": "kG6neEWLvhNo",
        "outputId": "f9c413d7-f063-4543-a732-829ba83eac07"
      },
      "execution_count": 140,
      "outputs": [
        {
          "output_type": "execute_result",
          "data": {
            "text/plain": [
              "array([[5]], dtype=uint8)"
            ]
          },
          "metadata": {},
          "execution_count": 140
        }
      ]
    },
    {
      "cell_type": "code",
      "source": [
        "# 비용 함수 클래스, 비용 함수의 종류에 따라 다른 클래스 내 함수를 사용한다.\n",
        "class cost_function:\n",
        "  # 예측값\n",
        "  predict = []\n",
        "  # 타겟값\n",
        "  target = []\n",
        "  # 비용 함수값\n",
        "  error_cost = []\n",
        "\n",
        "  # 오차 제곱합\n",
        "  def errer_squared_sum(self, predict, target):\n",
        "    self.predict = predict\n",
        "    self.target = target\n",
        "\n",
        "    self.error_cost = np.sum(0.5*((predict - target)**2))\n",
        "    return self.error_cost\n",
        "\n",
        "  # 오차 제곱합 미분 함수\n",
        "  def diff_error_squared_sum(self, predict, target):\n",
        "    self.predict = predict\n",
        "    self.target = target\n",
        "\n",
        "    return self.predict - self.target"
      ],
      "metadata": {
        "id": "G0nD-WVBMq_G"
      },
      "execution_count": 141,
      "outputs": []
    },
    {
      "cell_type": "code",
      "source": [
        "# 활성화 함수\n",
        "class activation_function:\n",
        "  # 시그모이드 함수\n",
        "  def sigmoid(self, x):\n",
        "    return 1 / (1+np.e**-x)\n",
        "  \n",
        "  # 시그모이드 함수의 미분 함수\n",
        "  def sigmoid_diff(self, x):  \n",
        "    return self.sigmoid(x) * (1 - self.sigmoid(x))"
      ],
      "metadata": {
        "id": "eZ-6cSrDeLar"
      },
      "execution_count": 142,
      "outputs": []
    },
    {
      "cell_type": "code",
      "source": [
        "class PADDING:\n",
        "\n",
        "  def padding(self, input, padding_size):\n",
        "    \"\"\"\n",
        "    input : 입력 데이터\n",
        "    padding_size : padding 연산 후의 데이터 크기\n",
        "    \"\"\"\n",
        "    if(padding_size == 0):\n",
        "      return input\n",
        "\n",
        "    padding_matrix = np.zeros((input.shape[0] + padding_size, input.shape[1] + padding_size))\n",
        "\n",
        "    for i in range(input.shape[0]):\n",
        "      for j in range(input.shape[1]):\n",
        "        padding_matrix[i + int(padding_size / 2)][j + int(padding_size / 2)] = input[i][j]\n",
        "    \n",
        "    return padding_matrix\n"
      ],
      "metadata": {
        "id": "V9ODurlEQrST"
      },
      "execution_count": 143,
      "outputs": []
    },
    {
      "cell_type": "code",
      "source": [
        "class POOLING:\n",
        "  pad = PADDING()\n",
        "\n",
        "  pool_result = []\n",
        "\n",
        "  def max_pooling(self, input, pooling_size):\n",
        "    \"\"\"\n",
        "    input : 입력 데이터\n",
        "    pooling_size : pooling size\n",
        "    \"\"\"\n",
        "    self.pool_result = []\n",
        "    \n",
        "    pooling_matrix = self.pad.padding(input, (input.shape[0] % pooling_size))\n",
        "\n",
        "    for col in range(0, pooling_matrix.shape[0], pooling_size):\n",
        "      for row in range(0, pooling_matrix.shape[1], pooling_size):\n",
        "        pool_arr = []\n",
        "        for pooling_col in range(pooling_size):\n",
        "          for pooling_row in range(pooling_size):        \n",
        "            pool_arr.append(pooling_matrix[pooling_col + col, pooling_row + row])\n",
        "        self.pool_result.append(max(pool_arr))\n",
        "    \n",
        "    # 연산 결과를 크기에 맞게 바꿔준다.\n",
        "    return np.array(self.pool_result).reshape(int(pooling_matrix.shape[0] / pooling_size), -1)\n",
        "\n",
        "  # 풀링 결과와 매칭되는 입력값을 찾고, 해당 입력값과 연결되는 가중치에 대한 업데이트를 수행하기 위한 함수\n",
        "  def matching_pooling_result(self, input, result):\n",
        "    \"\"\"\n",
        "    input : pooling 수행 전 입력 데이터\n",
        "    result : pooling 수행 후의 데이터\n",
        "    \"\"\"\n",
        "    position_arr = []\n",
        "\n",
        "    # 풀링 데이터의 반복\n",
        "    for pooling_col in range(result.shape[0]):\n",
        "      for pooling_row in range(result.shape[1]):\n",
        "        # 전체 데이터에 대한 탐색\n",
        "        for col in range(pooling_col, pooling_col + result.shape[0]):\n",
        "          for row in range(pooling_row, pooling_row + result.shape[1] ):            \n",
        "            # 풀링 결과와 동일한 값을 찾는다. 그 위치의 탐색\n",
        "            if(result[pooling_col, pooling_row] == input[col, row]):\n",
        "              data_position = [col, row]\n",
        "        \n",
        "        position_arr.append(data_position)\n",
        "\n",
        "    return position_arr\n",
        "\n"
      ],
      "metadata": {
        "id": "heCrPvwjX1Aw"
      },
      "execution_count": 144,
      "outputs": []
    },
    {
      "cell_type": "code",
      "execution_count": 145,
      "metadata": {
        "id": "mj1m2ApBdPrL"
      },
      "outputs": [],
      "source": [
        "class MLP:\n",
        "  #가중치\n",
        "  weight = []\n",
        "\n",
        "  #편향값\n",
        "  bias = []\n",
        "    \n",
        "  # 각 층별 노드들의 입력, 활성화 함수 연산 전의 값\n",
        "  node_input = []\n",
        "\n",
        "  # 각 층별 노드들의 출력\n",
        "  node_output = []\n",
        "\n",
        "  # 타겟, 목푯값\n",
        "  target = []\n",
        "\n",
        "  # 각 층의 델타 값의 저장\n",
        "  delta = []\n",
        "\n",
        "  # 비용 함수\n",
        "  cost = cost_function()\n",
        "\n",
        "  # 활성화 함수\n",
        "  activation = activation_function()\n",
        "\n",
        "  # 가중치 업데이트 크기\n",
        "  weight_update_arr = []\n",
        "  \n",
        "  #순전파 계산\n",
        "  def forward_cal(self, input, node_count):\n",
        "\n",
        "    # 가중치의 임의 생성, node_count 개수만큼의 은닉(또는 출력) 노드가 존재한다.\n",
        "    # (n,1) 개의 입력 값과 m 개의 노드 연결 (m, n) 크기의 가중치가 존재해야 한다.\n",
        "    weight = np.random.rand(node_count, input.shape[0])\n",
        "\n",
        "    #편향값의 임의 생성, 동일한 편향 값을 사용한다.\n",
        "    bias = np.random.rand(1)\n",
        "\n",
        "    # 노드 입력값의 저장 필요, 활성화 미분 함수의 값을 구하기 위해 필요\n",
        "    self.node_input.append(input)\n",
        "\n",
        "    #가중치와 노드 출력의 행렬곱연산, 편향값 덧셈\n",
        "    hidden_input = weight @ input + bias\n",
        "            \n",
        "    #노드 입력과 활성화 함수 연산을 통한 노드 출력 계산\n",
        "    # cnn 에선 0과 1 사이의 결과를 출력해야 하기 때문에 시그모이드 활성화 함수를 사용용\n",
        "    output = self.activation.sigmoid(hidden_input)\n",
        "\n",
        "    # 노드 출력의 저장\n",
        "    self.node_output.append(output)\n",
        "\n",
        "    # 가중치 값 저장\n",
        "    self.weight.append(weight)\n",
        "\n",
        "    # 편향 값 저장\n",
        "    self.bias.append(bias)\n",
        "\n",
        "    return output\n",
        "\n",
        "  def cost_function(self, target):\n",
        "    self.target = target\n",
        "    return self.cost.errer_squared_sum(self.predict, target)\n",
        "\n",
        "  # 비용 함수에 대한 delta 값 계산\n",
        "  def cal_delta_result(self, predict, target):  \n",
        "\n",
        "    #출력층 노드의 변화량에 대한 오차 함수의 변화량 계산\n",
        "    delta = (self.cost.diff_error_squared_sum(predict, target) * self.activation.sigmoid_diff(self.node_output[-1]))\n",
        "\n",
        "    self.delta.append(delta)\n",
        "\n",
        "    return delta\n",
        "\n",
        "  # 은닉층에 대한 delta 값 계산, 가중치 변화량이 누적된다.\n",
        "  def cal_delta_hidden(self):\n",
        "\n",
        "    # delta 값 호출\n",
        "    delta = self.delta[-1]\n",
        "\n",
        "    # 가중치와의 연산\n",
        "    delta = self.weight[-len(self.delta)].T @ delta\n",
        "\n",
        "    # 활성화 함수 미분 함수와의 연산\n",
        "    delta = delta * self.activation.sigmoid_diff(self.node_input[-(len(self.delta))])\n",
        "\n",
        "    self.delta.append(delta)\n",
        "\n",
        "    return delta\n",
        "  \n",
        "  # 가중치 업데이트량 크기 계산\n",
        "  def weight_update(self, learning_rate):\n",
        "    # 연산의 편리함을 위해 뒤집어준다.\n",
        "    self.delta = self.delta[::-1]\n",
        "\n",
        "    for i in range(len(self.weight)):\n",
        "      self.weight_update_arr.append(self.delta[i] @ self.node_output[i].T)\n",
        "\n",
        "      self.weight[i] = self.weight[i] - self.weight_update_arr[i].T\n",
        "\n"
      ]
    },
    {
      "cell_type": "code",
      "source": [
        "class CNN:\n",
        "\n",
        "  # 필터의 개수만큼 가중치가 존재\n",
        "  cnn_weight = []\n",
        "  \n",
        "  # 패딩\n",
        "  pad = PADDING()\n",
        "\n",
        "  # 풀링\n",
        "  pool = POOLING()\n",
        "\n",
        "  # MLP\n",
        "  mlp = MLP()  \n",
        "\n",
        "  # 레이어 구현\n",
        "  layer_result = []\n",
        "\n",
        "  # 현재 레이어 \n",
        "  layer = 0\n",
        "\n",
        "  # delta 값\n",
        "  delta = []\n",
        "\n",
        "  # target 값\n",
        "  target = []\n",
        "\n",
        "  # delta 값 계산을 위한 cnn 연산\n",
        "  def delta_cnn(self, weight):\n",
        "    # 각 필터별 연산 결과를 저장 리스트\n",
        "    filter_result_arr = []\n",
        "\n",
        "    # 현재 델타값\n",
        "    delta = self.delta[len(self.delta) - 1]\n",
        "\n",
        "    # 필터의 개수\n",
        "    filter_count = len(weight)\n",
        "\n",
        "    # 필터의 모양\n",
        "    filter_shape = int((len(delta) / filter_count) ** (1/2))\n",
        "\n",
        "    # 필터의 개수만큼 반복\n",
        "    for i in range(filter_count):\n",
        "      # 현재 필터의 델타값\n",
        "      filter_delta = delta[int(i * (len(delta) /filter_count)): int((i+1) * (len(delta) /filter_count))]\n",
        "      \n",
        "      # 델타값의 모양을 합성곱 연산에 맞게 바꿔준다.\n",
        "      filter_delta = filter_delta.reshape(filter_shape, -1)\n",
        "\n",
        "      # 합성곱 시 padding 을 수행했을 경우 역전파 계산에서도 padding 의 수행\n",
        "      filter_delta = self.pad.padding(filter_delta, int(filter_shape))\n",
        "\n",
        "      # 현재 필터의 가중치\n",
        "      filter_weight = weight[i]\n",
        "\n",
        "      # 합성곱 연산 결과의 저장\n",
        "      result_arr = []\n",
        "\n",
        "      # 합성곱 연산 수행\n",
        "      for col in range(filter_shape):\n",
        "        for row in range(filter_shape):\n",
        "          result = []\n",
        "          for w_col in range(filter_weight.shape[0]):\n",
        "            for w_row in range(filter_weight.shape[1]):\n",
        "              result.append(filter_delta[col + w_col, row + w_row] * filter_weight[w_col, w_col])\n",
        "          result_arr.append(np.sum(result))\n",
        "\n",
        "      # 연산 결과를 크기에 맞게 변경\n",
        "      result_arr = np.array(result_arr).reshape(filter_shape, -1)\n",
        "\n",
        "      filter_result_arr.append(result_arr)\n",
        "    \n",
        "    # 결과의 저장\n",
        "    self.delta.append(filter_result_arr)\n",
        "  \n",
        "  def cal_cnn(self, input, target, filter_size, filter_count):\n",
        "    # 각 필터별 연산 결과를 저장할 리스트\n",
        "    filter_result_arr = []\n",
        "\n",
        "    # 가중치 행렬 생성\n",
        "    weight_arr = []\n",
        "\n",
        "    # 타겟값 저장\n",
        "    self.target = target\n",
        "\n",
        "    # 입력 받은 필터의 개수만큼 반복\n",
        "    for i in range(filter_count):\n",
        "\n",
        "      # 필터 크기에 맞는 임의의 가중치 생성\n",
        "      weight = np.random.random(filter_size * filter_size).reshape(filter_size, filter_size)\n",
        "      \n",
        "      weight_arr.append(weight)\n",
        "      \n",
        "      # 합성곱 연산 결과가 저장된다.\n",
        "      result_arr = []\n",
        "\n",
        "      # 합성곱 연산 수행\n",
        "      for col in range(input.shape[0] - weight.shape[0] + 1):\n",
        "        for row in range(input.shape[1] - weight.shape[1] + 1):\n",
        "          result = []\n",
        "          for w_col in range(weight.shape[0]):\n",
        "            for w_row in range(weight.shape[1]):\n",
        "              result.append(input[col + w_col, row + w_row ] * weight[w_col, w_col])\n",
        "          result_arr.append(np.sum(result))\n",
        "\n",
        "      # 연산 결과를 크기에 맞게 바꿔준다.\n",
        "      result_arr = np.array(result_arr).reshape(input.shape[0] - weight.shape[0] + 1, -1)\n",
        "\n",
        "      # 연산 결과의 저장 (numpy 형태)\n",
        "      filter_result_arr.append(result_arr)\n",
        "    \n",
        "    # 가중치 행렬의 저장\n",
        "    self.cnn_weight.append(weight_arr)\n",
        "\n",
        "    # 층에다가 결과를 저장한다. 모든 필터의 결과가 저장\n",
        "    self.layer_result.append(filter_result_arr)\n",
        "\n",
        "    # 레이어의 추가\n",
        "    self.layer = self.layer +1\n",
        "\n",
        "  # 패딩 cnn 연산 수행\n",
        "  def same_padding_cnn(self, input, filter_size, filter_count):\n",
        "    # 각 필터별 연산 결과를 저장할 리스트\n",
        "    filter_result_arr = []\n",
        "    \n",
        "    # 데이터 크기 지정\n",
        "    data_size = input.shape[0]\n",
        "\n",
        "    # 가중치 행렬 생성\n",
        "    weight_arr = []\n",
        "\n",
        "    # 입력 받은 필터의 개수만큼 반복\n",
        "    for i in range(filter_count):\n",
        "\n",
        "      # 커널 크기에 맞는 임의의 가중치 생성\n",
        "      weight = np.random.random(filter_size * filter_size).reshape(filter_size, filter_size)\n",
        "      \n",
        "      # 가중치의 저장\n",
        "      weight_arr.append(weight)\n",
        "      \n",
        "      # 합성곱 연산 결과가 저장된다.\n",
        "      result_arr = []\n",
        "\n",
        "      # 합성곱을 시행할, 패딩을 수행한 입력값\n",
        "      padding_matrix = self.pad.padding(input, int(data_size / 2))\n",
        "\n",
        "      # 합성곱 연산 수행\n",
        "      for col in range(input.shape[0]):\n",
        "        for row in range(input.shape[1]):\n",
        "          result = []\n",
        "          for w_col in range(weight.shape[0]):\n",
        "            for w_row in range(weight.shape[1]):\n",
        "              result.append(padding_matrix[col + w_col, row + w_row ] * weight[w_col, w_row])\n",
        "          result_arr.append(np.sum(result))\n",
        "\n",
        "      # 연산 결과를 크기에 맞게 바꿔준다.\n",
        "      result_arr = np.array(result_arr).reshape(data_size, -1)\n",
        "\n",
        "      # 연산 결과의 저장\n",
        "      filter_result_arr.append(result_arr)\n",
        "\n",
        "    # 가중치의 저장\n",
        "    self.cnn_weight.append(weight_arr)   \n",
        "    \n",
        "    # 층에다가 결과를 저장한다.\n",
        "    self.layer_result.append(filter_result_arr)\n",
        "\n",
        "    # 레이어의 추가\n",
        "    self.layer = self.layer +1\n",
        "\n",
        "  # 두 번째 층 이후의 cnn 연산 함수, 입력값은 이전 층의 출력이 된다.\n",
        "  def layer_cnn(self, filter_size, filter_count):\n",
        "    # 각 필터별 연산 결과를 저장할 리스트\n",
        "    filter_result_arr = []\n",
        "\n",
        "    # 각 layer 별 가중치를 저장할 리스트\n",
        "    weight_arr = []\n",
        "\n",
        "    # 입력 받은 필터의 개수만큼 반복\n",
        "    for i in range(filter_count):\n",
        "      # 필터를 저장할 배열\n",
        "      filter_arr = []\n",
        "\n",
        "      # 필터의 생성, 그 크기와 갯수는 이전 출력의 특성 맵의 크기와 동일\n",
        "      for j in range(len(self.layer_result[-1])):\n",
        "        # 필터 크기에 맞는 임의의 가중치 생성\n",
        "        filter = np.random.random(filter_size * filter_size).reshape(filter_size, filter_size)\n",
        "\n",
        "        # (n, n, 입력 특성 맵의 개수) 의 가중치, 필터가 filter_count 만큼 생성된다.\n",
        "        filter_arr.append(filter)\n",
        "      \n",
        "      # 필터 배열의 저장\n",
        "      weight_arr.append(filter_arr)\n",
        "    \n",
        "    # 128, 64, 3, (28,28)\n",
        "    print(len(weight_arr), len(weight_arr[0]), len(weight_arr[0][0]), self.layer_result[-1][0].shape)\n",
        "\n",
        "    # 입력 받은 필터의 개수만큼 반복\n",
        "    for i in range(filter_count):\n",
        "      print(i , \"/\", filter_count)\n",
        "      \n",
        "      # 채널별 필터의 연산 결괏값 행렬을 더한 합\n",
        "      result_sum = np.zeros((self.layer_result[-1][0].shape[0], self.layer_result[-1][0].shape[0]))\n",
        "\n",
        "      # 이전 출력의 채널 개수만큼 반복\n",
        "      for j in range(len(self.layer_result[-1])):\n",
        "        # 하나의 채널에 대한 (filter_size, filter_size, len(self.layer_result[-1])) 의 cnn 연산을 수행해야 함\n",
        "        \n",
        "        # 합성곱을 시행할 패딩을 수행한 입력값\n",
        "        padding_matrix = self.pad.padding(self.layer_result[-1][j], int(self.layer_result[-1][j].shape[0] / 2))\n",
        "\n",
        "        result_arr = []\n",
        "\n",
        "        # 하나의 입력에 대한 cnn 연산 수행\n",
        "        # 이전 출력의 모양에 따른 반복\n",
        "        for col in range(self.layer_result[-1][j].shape[0]):\n",
        "          for row in range(self.layer_result[-1][j].shape[1]):\n",
        "            result = []\n",
        "            for w_col in range(len(weight_arr[0][0])):\n",
        "              for w_row in range(len(weight_arr[0][0])):\n",
        "                result.append(padding_matrix[col + w_col, row + w_row ] * weight_arr[i][j][w_col, w_row])\n",
        "            result_arr.append(np.sum(result))\n",
        "          \n",
        "        # 연산 결과를 크기에 맞게 바꿔준다.\n",
        "        result_arr = np.array(result_arr).reshape(self.layer_result[-1][j].shape[0], -1)\n",
        "\n",
        "        # 연산 결괏값 행렬을 모두 더해준다.\n",
        "        result_sum = result_sum + result_arr\n",
        "      \n",
        "      filter_result_arr.append(result_sum)\n",
        "    \n",
        "    # 가중치의 저장\n",
        "    self.cnn_weight.append(weight_arr)\n",
        "\n",
        "    # 층에다가 결과를 저장한다.\n",
        "    self.layer_result.append(filter_result_arr)\n",
        "\n",
        "  def pooling(self, pooling_size):\n",
        "    # 각 필터별 연산 결과를 저장할 리스트\n",
        "    filter_result_arr = []\n",
        "\n",
        "    # 이전 레이어의 필터 개수만큼 반복.\n",
        "    for i in range(len(self.layer_result[-1])):\n",
        "      # numpy array 의 반환\n",
        "      pooling_result = self.pool.max_pooling(self.layer_result[-1][i], pooling_size)\n",
        "\n",
        "      filter_result_arr.append(pooling_result)\n",
        "    \n",
        "    self.layer_result.append(filter_result_arr)\n",
        "\n",
        "  def flatten(self):\n",
        "    data = self.layer_result[-1]\n",
        "    \n",
        "    data_arr = []\n",
        "\n",
        "    # 필터의 개수만큼 반복\n",
        "    for filter_count in range(len(data)):\n",
        "      for filter_size_col in range(data[filter_count].shape[0]):\n",
        "        for filter_size_row in range(data[filter_count].shape[1]):\n",
        "          data_arr.append(data[filter_count][filter_size_col][filter_size_row])\n",
        "\n",
        "    self.layer_result.append(np.array(data_arr).reshape(-1,1))\n",
        "\n",
        "  # MLP 층의 연결, 순전파 연산\n",
        "\n",
        "  def mlp_forward_cal(self, node_count):\n",
        "\n",
        "    # MLP 계산의 결과를 저장\n",
        "    self.layer_result.append(self.mlp.forward_cal(self.layer_result[-1], node_count))\n",
        "\n",
        "    self.cnn_weight.append(self.mlp.weight[-1])\n",
        "\n",
        "  # 출력층 MLP 에 대한 delta 연산\n",
        "  def cal_delta_result_layer(self):\n",
        "\n",
        "    # 마지막 레이어의 출력을 전달한다.\n",
        "    self.delta.append(self.mlp.cal_delta_result(self.layer_result[-1], self.target))\n",
        "\n",
        "  def cal_delta_hidden_layer(self):\n",
        "    \n",
        "    # 노드 입력값을 넘겨준다.\n",
        "    self.delta.append(self.mlp.cal_delta_hidden())\n",
        "\n",
        "  def cal_weight_update_mlp(self, learning_rate):\n",
        "    self.mlp.weight_update(learning_rate)\n",
        "\n",
        "  def cal_delta_pooling(self):\n",
        "    n = 0\n",
        "\n",
        "    # 새로 저장되는 delta 값의 크기 계산\n",
        "    kernel_delta = np.zeros(((self.layer_result[self.layer - len(self.delta) - 2][0]).shape[0] ** 2) * len(self.layer_result[self.layer - len(self.delta) - 1])).reshape(-1,1)\n",
        "\n",
        "    # 커널의 개수만큼의 반복, 풀링 후 커널의 개수\n",
        "    for i in range(len(self.layer_result[self.layer - len(self.delta) - 1])):\n",
        "      # 커널별 최댓값의 위치를 탐색한다.\n",
        "      max_position = self.pool.matching_pooling_result(cnn.layer_result[self.layer - len(self.delta) - 2][0], cnn.layer_result[self.layer - len(self.delta) - 1][0])\n",
        "\n",
        "      for j in range(len(max_position)):\n",
        "        # 추가되는 값의 위치 계산\n",
        "        delta_position = (i * (self.layer_result[self.layer - len(self.delta) - 2][i]).shape[0] ** 2)\n",
        "        delta_position = delta_position + (max_position[j][0] * (self.layer_result[self.layer - len(self.delta) - 2][i]).shape[0]) + max_position[j][1]\n",
        "\n",
        "        kernel_delta[delta_position][0] = self.delta[len(self.delta) - 1][n]\n",
        "        \n",
        "        n = n + 1\n",
        "\n",
        "    self.delta.append(kernel_delta)\n",
        "        "
      ],
      "metadata": {
        "id": "-cGe0Svl3Nu8"
      },
      "execution_count": 146,
      "outputs": []
    },
    {
      "cell_type": "code",
      "source": [
        "cnn = CNN()"
      ],
      "metadata": {
        "id": "uxX2c54fmrsb"
      },
      "execution_count": 147,
      "outputs": []
    },
    {
      "cell_type": "code",
      "source": [
        "cnn.target = target"
      ],
      "metadata": {
        "id": "tptNab22Viey"
      },
      "execution_count": 148,
      "outputs": []
    },
    {
      "cell_type": "code",
      "source": [
        "cnn.same_padding_cnn(input, 7, 64)"
      ],
      "metadata": {
        "id": "-hOTaSWOudZY"
      },
      "execution_count": 149,
      "outputs": []
    },
    {
      "cell_type": "code",
      "source": [
        "cnn.pooling(2)"
      ],
      "metadata": {
        "id": "guoAjaXWwIrG"
      },
      "execution_count": 150,
      "outputs": []
    },
    {
      "cell_type": "code",
      "source": [
        "cnn.layer_cnn(3, 128)"
      ],
      "metadata": {
        "id": "It7kKYTfkN7I"
      },
      "execution_count": null,
      "outputs": []
    },
    {
      "cell_type": "code",
      "source": [
        "cnn.pooling(2)"
      ],
      "metadata": {
        "id": "tdOXBoEwsbdE"
      },
      "execution_count": 152,
      "outputs": []
    },
    {
      "cell_type": "code",
      "source": [
        "cnn.layer_cnn(3, 256)"
      ],
      "metadata": {
        "id": "6sXDUzWHugXX"
      },
      "execution_count": null,
      "outputs": []
    },
    {
      "cell_type": "code",
      "source": [
        "cnn.pooling(2)"
      ],
      "metadata": {
        "id": "e_pNYLhKy99v"
      },
      "execution_count": 154,
      "outputs": []
    },
    {
      "cell_type": "code",
      "source": [
        "cnn.flatten()"
      ],
      "metadata": {
        "id": "k8QqB6LSzJGe"
      },
      "execution_count": 155,
      "outputs": []
    },
    {
      "cell_type": "code",
      "source": [
        "print(cnn.layer_result[-2][0].shape, len(cnn.layer_result[-2]), cnn.layer_result[-1].shape)"
      ],
      "metadata": {
        "colab": {
          "base_uri": "https://localhost:8080/"
        },
        "id": "kuL1gFZQSI_g",
        "outputId": "64f03f8c-0e65-43d3-db63-d988faeaf242"
      },
      "execution_count": 156,
      "outputs": [
        {
          "output_type": "stream",
          "name": "stdout",
          "text": [
            "(4, 4) 256 (4096, 1)\n"
          ]
        }
      ]
    },
    {
      "cell_type": "code",
      "source": [
        "print(len(cnn.mlp.node_output), len(cnn.mlp.node_input), len(cnn.mlp.weight))"
      ],
      "metadata": {
        "colab": {
          "base_uri": "https://localhost:8080/"
        },
        "id": "Rx7Z5GRJTR-p",
        "outputId": "913b77d5-9995-4fba-ed19-578a6a20aef9"
      },
      "execution_count": 157,
      "outputs": [
        {
          "output_type": "stream",
          "name": "stdout",
          "text": [
            "0 0 0\n"
          ]
        }
      ]
    },
    {
      "cell_type": "code",
      "source": [
        "cnn.mlp_forward_cal(128)"
      ],
      "metadata": {
        "id": "ewhKMrRV6TF4"
      },
      "execution_count": 158,
      "outputs": []
    },
    {
      "cell_type": "code",
      "source": [
        "cnn.mlp_forward_cal(64)"
      ],
      "metadata": {
        "id": "k3MRzl0ICiCA"
      },
      "execution_count": 159,
      "outputs": []
    },
    {
      "cell_type": "code",
      "source": [
        "cnn.mlp_forward_cal(10)"
      ],
      "metadata": {
        "id": "z0CTyK7VCjtq"
      },
      "execution_count": 160,
      "outputs": []
    },
    {
      "cell_type": "code",
      "source": [
        "cnn.cal_delta_result_layer()"
      ],
      "metadata": {
        "id": "btjXyJgW-qpV"
      },
      "execution_count": 161,
      "outputs": []
    },
    {
      "cell_type": "code",
      "source": [
        "cnn.cal_delta_hidden_layer()"
      ],
      "metadata": {
        "id": "9uk25v5cCWuB"
      },
      "execution_count": 162,
      "outputs": []
    },
    {
      "cell_type": "code",
      "source": [
        "cnn.cal_delta_hidden_layer()"
      ],
      "metadata": {
        "id": "SkbelnK7IMB6"
      },
      "execution_count": 163,
      "outputs": []
    },
    {
      "cell_type": "code",
      "source": [
        "cnn.cal_delta_hidden_layer()"
      ],
      "metadata": {
        "id": "I6Jyx-K4IWca"
      },
      "execution_count": 164,
      "outputs": []
    },
    {
      "cell_type": "code",
      "source": [
        "cnn.cal_weight_update_mlp(0.01)"
      ],
      "metadata": {
        "id": "Cpu8jWVEF2rE"
      },
      "execution_count": 165,
      "outputs": []
    },
    {
      "cell_type": "code",
      "source": [],
      "metadata": {
        "id": "ouA2AasjIAUq"
      },
      "execution_count": 165,
      "outputs": []
    }
  ]
}