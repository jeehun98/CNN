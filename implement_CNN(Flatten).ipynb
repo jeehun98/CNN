{
  "nbformat": 4,
  "nbformat_minor": 0,
  "metadata": {
    "colab": {
      "provenance": []
    },
    "kernelspec": {
      "name": "python3",
      "display_name": "Python 3"
    },
    "language_info": {
      "name": "python"
    }
  },
  "cells": [
    {
      "cell_type": "code",
      "execution_count": 222,
      "metadata": {
        "id": "7C5rm0cVNQ8k"
      },
      "outputs": [],
      "source": []
    },
    {
      "cell_type": "code",
      "execution_count": 223,
      "metadata": {
        "id": "sOOrnfrEqOys"
      },
      "outputs": [],
      "source": [
        "import numpy as np"
      ]
    },
    {
      "cell_type": "code",
      "source": [
        "from tensorflow.keras import datasets\n",
        "\n",
        "(X_tn0, y_tn0), (X_te0, y_te0) = datasets.mnist.load_data()"
      ],
      "metadata": {
        "id": "9ODSxTJ9-jQR"
      },
      "execution_count": 224,
      "outputs": []
    },
    {
      "cell_type": "code",
      "source": [
        "input = X_tn0[0]\n",
        "input.shape"
      ],
      "metadata": {
        "colab": {
          "base_uri": "https://localhost:8080/"
        },
        "id": "Dp8WqHOEvspn",
        "outputId": "44528b2b-8388-4b13-87c6-a02f32a53dce"
      },
      "execution_count": 225,
      "outputs": [
        {
          "output_type": "execute_result",
          "data": {
            "text/plain": [
              "(28, 28)"
            ]
          },
          "metadata": {},
          "execution_count": 225
        }
      ]
    },
    {
      "cell_type": "code",
      "source": [
        "target = np.array(y_tn0[0]).reshape(1, -1)\n",
        "target.shape"
      ],
      "metadata": {
        "colab": {
          "base_uri": "https://localhost:8080/"
        },
        "id": "kG6neEWLvhNo",
        "outputId": "cdededc5-86dd-46de-dd60-f08e76b882b7"
      },
      "execution_count": 226,
      "outputs": [
        {
          "output_type": "execute_result",
          "data": {
            "text/plain": [
              "(1, 1)"
            ]
          },
          "metadata": {},
          "execution_count": 226
        }
      ]
    },
    {
      "cell_type": "code",
      "source": [
        "class PADDING:\n",
        "\n",
        "  def padding(self, input, padding_size):\n",
        "    \"\"\"\n",
        "    input : 입력 데이터\n",
        "    padding_size : padding 연산 후의 데이터 크기\n",
        "    \"\"\"\n",
        "    if(padding_size == 0):\n",
        "      return input\n",
        "\n",
        "    padding_matrix = np.zeros((input.shape[0] + padding_size, input.shape[1] + padding_size))\n",
        "\n",
        "    for i in range(input.shape[0]):\n",
        "      for j in range(input.shape[1]):\n",
        "        padding_matrix[i + int(padding_size / 2)][j + int(padding_size / 2)] = input[i][j]\n",
        "    \n",
        "    return padding_matrix\n"
      ],
      "metadata": {
        "id": "V9ODurlEQrST"
      },
      "execution_count": 227,
      "outputs": []
    },
    {
      "cell_type": "code",
      "source": [
        "class POOLING:\n",
        "  pad = PADDING()\n",
        "\n",
        "  pool_result = []\n",
        "\n",
        "  def max_pooling(self, input, pooling_size):\n",
        "    \"\"\"\n",
        "    input : 입력 데이터\n",
        "    pooling_size : pooling size\n",
        "    \"\"\"\n",
        "    self.pool_result = []\n",
        "    \n",
        "    pooling_matrix = self.pad.padding(input, input.shape[0] % pooling_size)\n",
        "\n",
        "    for col in range(0, pooling_matrix.shape[0], pooling_size):\n",
        "      for row in range(0, pooling_matrix.shape[1], pooling_size):\n",
        "        pool_arr = []\n",
        "        for pooling_col in range(pooling_size):\n",
        "          for pooling_row in range(pooling_size):        \n",
        "            pool_arr.append(pooling_matrix[pooling_col + col, pooling_row + row])\n",
        "        self.pool_result.append(max(pool_arr))\n",
        "    \n",
        "    # 연산 결과를 크기에 맞게 바꿔준다.\n",
        "    return np.array(self.pool_result).reshape(int(pooling_matrix.shape[0] / pooling_size), -1)\n",
        "\n"
      ],
      "metadata": {
        "id": "heCrPvwjX1Aw"
      },
      "execution_count": 228,
      "outputs": []
    },
    {
      "cell_type": "code",
      "source": [
        "class CNN:\n",
        "\n",
        "  # 필터의 개수만큼 가중치가 존재\n",
        "  cnn_weight = []\n",
        "  \n",
        "  # 패딩\n",
        "  pad = PADDING()\n",
        "\n",
        "  # 풀링\n",
        "  pool = POOLING()\n",
        "\n",
        "  # 데이터 크기\n",
        "  data_size = 0\n",
        "\n",
        "  # 레이어 구현\n",
        "  layer_result = []\n",
        "\n",
        "  # 현재 레이어 \n",
        "  layer = 0\n",
        "  \n",
        "  def cal_cnn(self, input, target, filter_size, filter_count):\n",
        "    # 각 필터별 연산 결과를 저장할 리스트\n",
        "    filter_result_arr = []\n",
        "    \n",
        "    # 입력 받은 필터의 개수만큼 반복\n",
        "    for i in range(filter_count):\n",
        "\n",
        "      # 필터 크기에 맞는 임의의 가중치 생성\n",
        "      weight = np.random.random(filter_size * filter_size).reshape(filter_size, filter_size)\n",
        "      \n",
        "      self.cnn_weight.append(weight)\n",
        "      \n",
        "      # 합성곱 연산 결과가 저장된다.\n",
        "      result_arr = []\n",
        "\n",
        "      # 합성곱 연산 수행\n",
        "      for col in range(input.shape[0] - weight.shape[0] + 1):\n",
        "        for row in range(input.shape[1] - weight.shape[1] + 1):\n",
        "          result = []\n",
        "          for w_col in range(weight.shape[0]):\n",
        "            for w_row in range(weight.shape[1]):\n",
        "              result.append(input[col + w_col, row + w_row ] * weight[w_col, w_row])\n",
        "          result_arr.append(np.sum(result))\n",
        "\n",
        "      # 연산 결과를 크기에 맞게 바꿔준다.\n",
        "      result_arr = np.array(result_arr).reshape(input.shape[0] - weight.shape[0] + 1, -1)\n",
        "\n",
        "      # 연산 결과의 저장 (numpy 형태)\n",
        "      filter_result_arr.append(result_arr)\n",
        "    \n",
        "    # 층에다가 결과를 저장한다. 모든 필터의 결과가 저장\n",
        "    self.layer_result.append(filter_result_arr)\n",
        "\n",
        "    # 레이어의 추가\n",
        "    self.layer = self.layer +1\n",
        "\n",
        "  def same_padding_cnn(self, input, filter_size, filter_count):\n",
        "    # 각 필터별 연산 결과를 저장할 리스트\n",
        "    filter_result_arr = []\n",
        "    \n",
        "    # 데이터 크기 지정\n",
        "    self.data_size = input.shape[0]\n",
        "\n",
        "    # 입력 받은 필터의 개수만큼 반복\n",
        "    for i in range(filter_count):\n",
        "\n",
        "      # 필터 크기에 맞는 임의의 가중치 생성\n",
        "      weight = np.random.random(filter_size * filter_size).reshape(filter_size, filter_size)\n",
        "      \n",
        "      self.cnn_weight.append(weight)\n",
        "      \n",
        "      # 합성곱 연산 결과가 저장된다.\n",
        "      result_arr = []\n",
        "\n",
        "      # 합성곱 연산 수행행\n",
        "      for col in range(input.shape[0] - weight.shape[0] + 1):\n",
        "        for row in range(input.shape[1] - weight.shape[1] + 1):\n",
        "          result = []\n",
        "          for w_col in range(weight.shape[0]):\n",
        "            for w_row in range(weight.shape[1]):\n",
        "              result.append(input[col + w_col, row + w_row ] * weight[w_col, w_row])\n",
        "          result_arr.append(np.sum(result))\n",
        "\n",
        "      # 연산 결과를 크기에 맞게 바꿔준다.\n",
        "      result_arr = np.array(result_arr).reshape(input.shape[0] - weight.shape[0] + 1, -1)\n",
        "\n",
        "      result_arr = self.pad.padding(result_arr, input.shape[0] - result_arr.shape[0])\n",
        "\n",
        "      # 연산 결과의 저장\n",
        "      filter_result_arr.append(result_arr)\n",
        "    \n",
        "    # 층에다가 결과를 저장한다.\n",
        "    self.layer_result.append(filter_result_arr)\n",
        "\n",
        "    # 레이어의 추가\n",
        "    self.layer = self.layer +1\n",
        "\n",
        "  def pooling(self, pooling_size):\n",
        "    # 각 필터별 연산 결과를 저장할 리스트\n",
        "    filter_result_arr = []\n",
        "\n",
        "    # 이전 레이어의 필터 개수만큼 반복.\n",
        "    for i in range(len(self.layer_result[self.layer - 1])):\n",
        "      # numpy array 의 반환\n",
        "      pooling_result = self.pool.max_pooling(self.layer_result[self.layer - 1][i], pooling_size)\n",
        "\n",
        "      filter_result_arr.append(pooling_result)\n",
        "    \n",
        "    self.layer_result.append(filter_result_arr)\n",
        "\n",
        "    # 레이어의 추가\n",
        "    self.layer = self.layer +1\n",
        "\n",
        "  # 두 번째 층 이후의 cnn 연산 함수, 입력값은 이전 층의 출력이 된다.\n",
        "  def layer_cnn(self, filter_size, filter_count):\n",
        "    # 각 필터별 연산 결과를 저장할 리스트\n",
        "    filter_result_arr = []\n",
        "\n",
        "    # 각 layer 별 가중치를 저장할 리스트\n",
        "    weight_arr = []\n",
        "\n",
        "    # 입력 받은 필터의 개수만큼 반복\n",
        "    for i in range(filter_count):\n",
        "\n",
        "      # 필터 크기에 맞는 임의의 가중치 생성\n",
        "      weight = np.random.random(filter_size * filter_size).reshape(filter_size, filter_size)\n",
        "      \n",
        "      weight_arr.append(weight)\n",
        "      \n",
        "      # 합성곱 연산 결과가 저장된다.\n",
        "      result_arr = []\n",
        "\n",
        "      # 합성곱 연산 수행. 이전 레이어의 필터 출력 크기에 맞게 반복이 시행된다.\n",
        "      for col in range(self.layer_result[self.layer - 1][0].shape[0] - weight.shape[0] + 1):\n",
        "        for row in range(self.layer_result[self.layer - 1][0].shape[1] - weight.shape[1] + 1):\n",
        "          result = []\n",
        "          for w_col in range(weight.shape[0]):\n",
        "            for w_row in range(weight.shape[1]):\n",
        "              result.append(input[col + w_col, row + w_row ] * weight[w_col, w_row])\n",
        "          result_arr.append(np.sum(result))\n",
        "          \n",
        "      # 연산 결과를 크기에 맞게 바꿔준다.\n",
        "      result_arr = np.array(result_arr).reshape(self.layer_result[self.layer - 1][0].shape[0] - weight.shape[0] + 1, -1)\n",
        "\n",
        "      result_arr = self.pad.padding(result_arr, self.layer_result[self.layer - 1][0].shape[0] - result_arr.shape[0])\n",
        "\n",
        "      # 연산 결과의 저장\n",
        "      filter_result_arr.append(result_arr)\n",
        "    \n",
        "    # 층에다가 결과를 저장한다.\n",
        "    self.layer_result.append(filter_result_arr)\n",
        "\n",
        "    # 가중치의 저장\n",
        "    self.cnn_weight.append(weight_arr)\n",
        "\n",
        "    # 레이어의 추가\n",
        "    self.layer = self.layer +1\n",
        "\n",
        "  def flatten(self):\n",
        "    data = self.layer_result[self.layer - 1]\n",
        "    \n",
        "    data_arr = []\n",
        "\n",
        "    # 필터의 개수만큼 반복\n",
        "    for filter_count in range(len(data)):\n",
        "      for filter_size_col in range(data[filter_count].shape[0]):\n",
        "        for filter_size_row in range(data[filter_count].shape[1]):\n",
        "          data_arr.append(data[filter_count][filter_size_col][filter_size_row])\n",
        "\n",
        "    return np.array(data_arr).reshape(-1,1)\n"
      ],
      "metadata": {
        "id": "-cGe0Svl3Nu8"
      },
      "execution_count": 229,
      "outputs": []
    },
    {
      "cell_type": "code",
      "source": [
        "cnn = CNN()"
      ],
      "metadata": {
        "id": "uxX2c54fmrsb"
      },
      "execution_count": 230,
      "outputs": []
    },
    {
      "cell_type": "code",
      "source": [
        "cnn.same_padding_cnn(input, 7, 64)"
      ],
      "metadata": {
        "id": "-hOTaSWOudZY"
      },
      "execution_count": 231,
      "outputs": []
    },
    {
      "cell_type": "code",
      "source": [
        "cnn.layer_result[0][0].shape"
      ],
      "metadata": {
        "colab": {
          "base_uri": "https://localhost:8080/"
        },
        "id": "V8SAxea7uizf",
        "outputId": "2fa8d6d9-579c-45dd-ada9-3e429b5cad18"
      },
      "execution_count": 232,
      "outputs": [
        {
          "output_type": "execute_result",
          "data": {
            "text/plain": [
              "(28, 28)"
            ]
          },
          "metadata": {},
          "execution_count": 232
        }
      ]
    },
    {
      "cell_type": "code",
      "source": [
        "len(cnn.layer_result[0])"
      ],
      "metadata": {
        "colab": {
          "base_uri": "https://localhost:8080/"
        },
        "id": "0Iknpx3TLhO3",
        "outputId": "be6f8474-807e-4419-d8fb-d7880bf4da6c"
      },
      "execution_count": 233,
      "outputs": [
        {
          "output_type": "execute_result",
          "data": {
            "text/plain": [
              "64"
            ]
          },
          "metadata": {},
          "execution_count": 233
        }
      ]
    },
    {
      "cell_type": "code",
      "source": [
        "cnn.pooling(2)"
      ],
      "metadata": {
        "id": "guoAjaXWwIrG"
      },
      "execution_count": 234,
      "outputs": []
    },
    {
      "cell_type": "code",
      "source": [
        "cnn.layer_result[1][0].shape"
      ],
      "metadata": {
        "colab": {
          "base_uri": "https://localhost:8080/"
        },
        "id": "Gp-NzdKXuVQH",
        "outputId": "5a8cfa8b-1ad0-4d6b-da2f-99bb33135dc9"
      },
      "execution_count": 235,
      "outputs": [
        {
          "output_type": "execute_result",
          "data": {
            "text/plain": [
              "(14, 14)"
            ]
          },
          "metadata": {},
          "execution_count": 235
        }
      ]
    },
    {
      "cell_type": "code",
      "source": [
        "cnn.layer_cnn(3, 128)"
      ],
      "metadata": {
        "id": "yXYgTdRiuY3r"
      },
      "execution_count": 236,
      "outputs": []
    },
    {
      "cell_type": "code",
      "source": [
        "cnn.layer_result[2][0].shape"
      ],
      "metadata": {
        "colab": {
          "base_uri": "https://localhost:8080/"
        },
        "id": "M32Z4KUWKsVV",
        "outputId": "60b6d2d7-6940-4785-b8ad-63bf2fd6404b"
      },
      "execution_count": 237,
      "outputs": [
        {
          "output_type": "execute_result",
          "data": {
            "text/plain": [
              "(14, 14)"
            ]
          },
          "metadata": {},
          "execution_count": 237
        }
      ]
    },
    {
      "cell_type": "code",
      "source": [
        "len(cnn.layer_result[2])"
      ],
      "metadata": {
        "colab": {
          "base_uri": "https://localhost:8080/"
        },
        "id": "jPfAF3KOLd_M",
        "outputId": "c3fb0260-9406-4c15-f371-673064d7295f"
      },
      "execution_count": 238,
      "outputs": [
        {
          "output_type": "execute_result",
          "data": {
            "text/plain": [
              "128"
            ]
          },
          "metadata": {},
          "execution_count": 238
        }
      ]
    },
    {
      "cell_type": "code",
      "source": [
        "cnn.pooling(2)"
      ],
      "metadata": {
        "id": "UrIL7QTELkJg"
      },
      "execution_count": 239,
      "outputs": []
    },
    {
      "cell_type": "code",
      "source": [
        "cnn.layer_result[3][0].shape"
      ],
      "metadata": {
        "colab": {
          "base_uri": "https://localhost:8080/"
        },
        "id": "awdaki3aMFZy",
        "outputId": "2da9cbb4-49e7-402f-a7f3-e71a72008650"
      },
      "execution_count": 240,
      "outputs": [
        {
          "output_type": "execute_result",
          "data": {
            "text/plain": [
              "(7, 7)"
            ]
          },
          "metadata": {},
          "execution_count": 240
        }
      ]
    },
    {
      "cell_type": "code",
      "source": [
        "len(cnn.layer_result[3])"
      ],
      "metadata": {
        "colab": {
          "base_uri": "https://localhost:8080/"
        },
        "id": "5m9aUlVVMslS",
        "outputId": "f9b694a6-c735-434f-ca3e-7baa8554012e"
      },
      "execution_count": 241,
      "outputs": [
        {
          "output_type": "execute_result",
          "data": {
            "text/plain": [
              "128"
            ]
          },
          "metadata": {},
          "execution_count": 241
        }
      ]
    },
    {
      "cell_type": "code",
      "source": [
        "cnn.layer_cnn(3, 256)"
      ],
      "metadata": {
        "id": "VGY3eKkAMGvF"
      },
      "execution_count": 242,
      "outputs": []
    },
    {
      "cell_type": "code",
      "source": [
        "cnn.layer_result[4][0].shape"
      ],
      "metadata": {
        "colab": {
          "base_uri": "https://localhost:8080/"
        },
        "id": "T_d6vQi4MKEX",
        "outputId": "85e01c71-1947-402b-c712-8bdce4ff87a8"
      },
      "execution_count": 243,
      "outputs": [
        {
          "output_type": "execute_result",
          "data": {
            "text/plain": [
              "(7, 7)"
            ]
          },
          "metadata": {},
          "execution_count": 243
        }
      ]
    },
    {
      "cell_type": "code",
      "source": [
        "len(cnn.layer_result[4])"
      ],
      "metadata": {
        "colab": {
          "base_uri": "https://localhost:8080/"
        },
        "id": "KBryybOXMMrz",
        "outputId": "a22ae153-2977-4239-b532-454bf1218646"
      },
      "execution_count": 244,
      "outputs": [
        {
          "output_type": "execute_result",
          "data": {
            "text/plain": [
              "256"
            ]
          },
          "metadata": {},
          "execution_count": 244
        }
      ]
    },
    {
      "cell_type": "code",
      "source": [
        "cnn.pooling(2)"
      ],
      "metadata": {
        "id": "lVu9iCmpMOAt"
      },
      "execution_count": 245,
      "outputs": []
    },
    {
      "cell_type": "code",
      "source": [
        "cnn.layer_result[5][0].shape"
      ],
      "metadata": {
        "colab": {
          "base_uri": "https://localhost:8080/"
        },
        "id": "ava77JPfMUd3",
        "outputId": "f6caa5db-c667-4d96-e811-a21ed7a1e950"
      },
      "execution_count": 246,
      "outputs": [
        {
          "output_type": "execute_result",
          "data": {
            "text/plain": [
              "(4, 4)"
            ]
          },
          "metadata": {},
          "execution_count": 246
        }
      ]
    },
    {
      "cell_type": "code",
      "source": [
        "len(cnn.layer_result[5])"
      ],
      "metadata": {
        "colab": {
          "base_uri": "https://localhost:8080/"
        },
        "id": "3FKVUbycMvD1",
        "outputId": "a83fa0a7-468c-4137-9bb9-65a3c5227063"
      },
      "execution_count": 247,
      "outputs": [
        {
          "output_type": "execute_result",
          "data": {
            "text/plain": [
              "256"
            ]
          },
          "metadata": {},
          "execution_count": 247
        }
      ]
    },
    {
      "cell_type": "code",
      "source": [
        "len(cnn.layer_result[5])"
      ],
      "metadata": {
        "colab": {
          "base_uri": "https://localhost:8080/"
        },
        "id": "t9cjkPDYWuBo",
        "outputId": "54f80e18-ecf2-42d3-8eaa-243dddcc99db"
      },
      "execution_count": 248,
      "outputs": [
        {
          "output_type": "execute_result",
          "data": {
            "text/plain": [
              "256"
            ]
          },
          "metadata": {},
          "execution_count": 248
        }
      ]
    },
    {
      "cell_type": "code",
      "source": [
        "cnn.flatten().shape"
      ],
      "metadata": {
        "colab": {
          "base_uri": "https://localhost:8080/"
        },
        "id": "XnlEuV0CVbqz",
        "outputId": "3a31db0f-ff72-46ab-fba3-4b7b9dd43cfd"
      },
      "execution_count": 249,
      "outputs": [
        {
          "output_type": "execute_result",
          "data": {
            "text/plain": [
              "(4096, 1)"
            ]
          },
          "metadata": {},
          "execution_count": 249
        }
      ]
    },
    {
      "cell_type": "code",
      "source": [],
      "metadata": {
        "id": "EZlpwPgpWNkU"
      },
      "execution_count": 249,
      "outputs": []
    }
  ]
}