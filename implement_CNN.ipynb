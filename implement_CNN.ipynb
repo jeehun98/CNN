{
  "nbformat": 4,
  "nbformat_minor": 0,
  "metadata": {
    "colab": {
      "provenance": []
    },
    "kernelspec": {
      "name": "python3",
      "display_name": "Python 3"
    },
    "language_info": {
      "name": "python"
    }
  },
  "cells": [
    {
      "cell_type": "code",
      "execution_count": 159,
      "metadata": {
        "id": "sOOrnfrEqOys"
      },
      "outputs": [],
      "source": [
        "import numpy as np"
      ]
    },
    {
      "cell_type": "code",
      "source": [
        "from tensorflow.keras import datasets\n",
        "\n",
        "(X_tn0, y_tn0), (X_te0, y_te0) = datasets.mnist.load_data()"
      ],
      "metadata": {
        "id": "9ODSxTJ9-jQR"
      },
      "execution_count": 160,
      "outputs": []
    },
    {
      "cell_type": "code",
      "source": [
        "input = X_tn0[0]\n",
        "input.shape"
      ],
      "metadata": {
        "colab": {
          "base_uri": "https://localhost:8080/"
        },
        "id": "Dp8WqHOEvspn",
        "outputId": "37f8d353-d6e1-4992-9bfe-3bee17af58e1"
      },
      "execution_count": 161,
      "outputs": [
        {
          "output_type": "execute_result",
          "data": {
            "text/plain": [
              "(28, 28)"
            ]
          },
          "metadata": {},
          "execution_count": 161
        }
      ]
    },
    {
      "cell_type": "code",
      "source": [
        "target = np.array(y_tn0[0]).reshape(1, -1)\n",
        "target.shape"
      ],
      "metadata": {
        "colab": {
          "base_uri": "https://localhost:8080/"
        },
        "id": "kG6neEWLvhNo",
        "outputId": "cbb49cab-e74c-401c-b6e1-5f3db54c6769"
      },
      "execution_count": 162,
      "outputs": [
        {
          "output_type": "execute_result",
          "data": {
            "text/plain": [
              "(1, 1)"
            ]
          },
          "metadata": {},
          "execution_count": 162
        }
      ]
    },
    {
      "cell_type": "code",
      "source": [
        "class PADDING:\n",
        "\n",
        "  def padding(self, input, padding_size):\n",
        "    \"\"\"\n",
        "    input : 입력 데이터\n",
        "    padding_size : padding 연산 후의 데이터 크기\n",
        "    \"\"\"\n",
        "    if(padding_size == 0):\n",
        "      return input\n",
        "\n",
        "    padding_matrix = np.zeros((input.shape[0] + padding_size, input.shape[1] + padding_size))\n",
        "\n",
        "    for i in range(input.shape[0]):\n",
        "      for j in range(input.shape[1]):\n",
        "        padding_matrix[i + int(padding_size / 2)][j + int(padding_size / 2)] = input[i][j]\n",
        "    \n",
        "    return padding_matrix"
      ],
      "metadata": {
        "id": "V9ODurlEQrST"
      },
      "execution_count": 163,
      "outputs": []
    },
    {
      "cell_type": "code",
      "source": [
        "class POOLING:\n",
        "  pad = PADDING()\n",
        "\n",
        "  def max_pooling(self, input, pooling_size):\n",
        "    \n",
        "    pooling_matrix = self.pad.padding(input, input.shape[0] % pooling_size)\n",
        "\n",
        "    for col in range(0, pooling_matrix.shape[0], 2):\n",
        "      for row in range(0, pooling_matrix.shape[1], 2):\n",
        "        padding_result = []\n",
        "        for pooling_col in range(pooling_size):\n",
        "          for pooling_row in range(pooling_size):\n",
        "            \n",
        "            padding_result.append(pooling_matrix[pooling_col + col, pooling_row + row])\n",
        "        print(max(padding_result), )"
      ],
      "metadata": {
        "id": "heCrPvwjX1Aw"
      },
      "execution_count": 164,
      "outputs": []
    },
    {
      "cell_type": "code",
      "source": [
        "class CNN:\n",
        "\n",
        "  # 필터의 개수만큼 가중치가 존재\n",
        "  cnn_weight = []\n",
        "\n",
        "  # 가중치 연산 결과\n",
        "  cnn_result = []\n",
        "  \n",
        "  def cal_cnn(self, input, target, filter_size, filter_count):\n",
        "    # 입력 받은 필터의 개수만큼 반복\n",
        "    for i in range(filter_count):\n",
        "\n",
        "      # 필터 크기에 맞는 임의의 가중치 생성\n",
        "      weight = np.random.random(filter_size * filter_size).reshape(filter_size, filter_size)\n",
        "      \n",
        "      self.cnn_weight.append(weight)\n",
        "      \n",
        "      # 합성곱 연산 결과가 저장된다.\n",
        "      result_arr = []\n",
        "\n",
        "      for col in range(input.shape[0] - weight.shape[0] + 1):\n",
        "        for row in range(input.shape[1] - weight.shape[1] + 1):\n",
        "          result = []\n",
        "          for w_col in range(weight.shape[0]):\n",
        "            for w_row in range(weight.shape[1]):\n",
        "              result.append(input[col + w_col, row + w_row ] * weight[w_col, w_row])\n",
        "          result_arr.append(np.sum(result))\n",
        "\n",
        "      # 연산 결과를 크기에 맞게 바꿔준다.\n",
        "      result_arr = np.array(result_arr).reshape(input.shape[0] - weight.shape[0] + 1, -1)\n",
        "\n",
        "      # 연산 결과의 저장\n",
        "      self.cnn_result.append(result_arr)\n",
        "\n",
        "\n"
      ],
      "metadata": {
        "id": "-cGe0Svl3Nu8"
      },
      "execution_count": 165,
      "outputs": []
    },
    {
      "cell_type": "code",
      "source": [
        "cnn = CNN()"
      ],
      "metadata": {
        "id": "uxX2c54fmrsb"
      },
      "execution_count": 166,
      "outputs": []
    },
    {
      "cell_type": "code",
      "source": [
        "cnn.cal_cnn(input, target, 7, 1)"
      ],
      "metadata": {
        "id": "ymFF7d2QmuG-"
      },
      "execution_count": 167,
      "outputs": []
    },
    {
      "cell_type": "code",
      "source": [
        "padding = PADDING()"
      ],
      "metadata": {
        "id": "g0yCwfrBO973"
      },
      "execution_count": 168,
      "outputs": []
    },
    {
      "cell_type": "code",
      "source": [
        "pool = POOLING()"
      ],
      "metadata": {
        "id": "CjznJ4EUWOpG"
      },
      "execution_count": 169,
      "outputs": []
    },
    {
      "cell_type": "code",
      "source": [
        "pool.max_pooling(cnn.cnn_result[0], 2)"
      ],
      "metadata": {
        "colab": {
          "base_uri": "https://localhost:8080/"
        },
        "id": "obXxVWuwT8hf",
        "outputId": "49ac0ab1-75fc-4d01-84e0-b2ff1a4e5a38"
      },
      "execution_count": 170,
      "outputs": [
        {
          "output_type": "stream",
          "name": "stdout",
          "text": [
            "11.564103982470105\n",
            "236.74514411163022\n",
            "615.0829761229982\n",
            "1190.8632725890384\n",
            "1527.655376126018\n",
            "1851.2264841714689\n",
            "1968.1104893751237\n",
            "2034.063079493049\n",
            "2051.997492314285\n",
            "1242.9759751991155\n",
            "1002.4715234373117\n",
            "62.70514447482013\n",
            "749.7496664846236\n",
            "1552.9495489780313\n",
            "2608.730396718885\n",
            "2990.779234240137\n",
            "3505.453530185751\n",
            "3219.291411257714\n",
            "2490.1397359244675\n",
            "2468.2280238495646\n",
            "1486.9553033756956\n",
            "1025.2010628261232\n",
            "52.60368753737824\n",
            "836.9331366186991\n",
            "1983.126343049038\n",
            "3352.432892338691\n",
            "3626.240452760013\n",
            "4228.393103385453\n",
            "3620.4008617937407\n",
            "2749.8405338465473\n",
            "2421.4897970196607\n",
            "1412.27978916433\n",
            "987.13425741724\n",
            "57.20877949481316\n",
            "858.0957734636731\n",
            "2108.84175509615\n",
            "3449.724622902467\n",
            "4065.2351661523417\n",
            "4232.023073831315\n",
            "3509.4742717631852\n",
            "2239.016297286893\n",
            "1731.4065828835783\n",
            "726.6226392325823\n",
            "515.0304463509491\n",
            "17.14032384520151\n",
            "482.6782232072884\n",
            "1046.297078883132\n",
            "2318.6895806803414\n",
            "3001.4139747866257\n",
            "3062.7221447508136\n",
            "2516.083439063906\n",
            "1271.9147789913343\n",
            "701.6667944496371\n",
            "91.71321740471708\n",
            "0.0\n",
            "0.0\n",
            "13.331362990712286\n",
            "238.1956023091334\n",
            "1154.7033380537418\n",
            "1595.36936239746\n",
            "2380.350452237803\n",
            "2810.5035993317088\n",
            "2161.8858369979002\n",
            "1372.3115814582984\n",
            "686.0728073370765\n",
            "18.821022214557935\n",
            "0.0\n",
            "0.0\n",
            "10.474642349845368\n",
            "560.3644221422106\n",
            "1182.0028296573357\n",
            "2684.142776584162\n",
            "3535.5475596635447\n",
            "3246.753874918871\n",
            "2688.1571879759877\n",
            "1187.2376927208238\n",
            "54.72837133339571\n",
            "0.0\n",
            "24.67349108083247\n",
            "313.159795472959\n",
            "1002.1308688727402\n",
            "1970.7496316656118\n",
            "3198.305824580153\n",
            "3838.283692707952\n",
            "3631.9074271036015\n",
            "2898.7329049189375\n",
            "1278.6749132241262\n",
            "51.611115099490505\n",
            "442.95429924900685\n",
            "1023.5721673077496\n",
            "1759.2704336587155\n",
            "2555.278392786537\n",
            "3182.5528109747406\n",
            "3519.8337623316684\n",
            "3652.9160051950894\n",
            "3051.164884794784\n",
            "2112.410374279325\n",
            "1168.7949242987356\n",
            "62.70289048699657\n",
            "1095.2407363236255\n",
            "1701.1816599506908\n",
            "2787.493240355995\n",
            "3227.6914294878793\n",
            "3409.7663601413733\n",
            "3433.379835312908\n",
            "3109.537254586016\n",
            "2034.3657526448128\n",
            "1354.5988442899916\n",
            "705.3696781244055\n",
            "1.7171952673367237\n",
            "1060.1064160431624\n",
            "1975.7688126464\n",
            "2705.5381800916134\n",
            "3066.3169913316888\n",
            "2923.419068231488\n",
            "2427.988648620063\n",
            "1692.6835261393653\n",
            "972.1548564852394\n",
            "357.2741064021418\n",
            "66.97061542613223\n",
            "0.0\n"
          ]
        }
      ]
    },
    {
      "cell_type": "code",
      "source": [],
      "metadata": {
        "id": "6An3-MZuUMfF"
      },
      "execution_count": 170,
      "outputs": []
    }
  ]
}