{
  "nbformat": 4,
  "nbformat_minor": 0,
  "metadata": {
    "colab": {
      "provenance": []
    },
    "kernelspec": {
      "name": "python3",
      "display_name": "Python 3"
    },
    "language_info": {
      "name": "python"
    }
  },
  "cells": [
    {
      "cell_type": "code",
      "execution_count": 105,
      "metadata": {
        "id": "sOOrnfrEqOys"
      },
      "outputs": [],
      "source": [
        "import numpy as np"
      ]
    },
    {
      "cell_type": "code",
      "source": [
        "from tensorflow.keras import datasets\n",
        "\n",
        "(X_tn0, y_tn0), (X_te0, y_te0) = datasets.mnist.load_data()"
      ],
      "metadata": {
        "id": "9ODSxTJ9-jQR"
      },
      "execution_count": 106,
      "outputs": []
    },
    {
      "cell_type": "code",
      "source": [
        "input = X_tn0[0]\n",
        "input.shape"
      ],
      "metadata": {
        "colab": {
          "base_uri": "https://localhost:8080/"
        },
        "id": "Dp8WqHOEvspn",
        "outputId": "b4baf78e-fddf-4977-8c0b-055f66495826"
      },
      "execution_count": 107,
      "outputs": [
        {
          "output_type": "execute_result",
          "data": {
            "text/plain": [
              "(28, 28)"
            ]
          },
          "metadata": {},
          "execution_count": 107
        }
      ]
    },
    {
      "cell_type": "code",
      "source": [
        "target = np.array(y_tn0[0]).reshape(1, -1)\n",
        "target"
      ],
      "metadata": {
        "colab": {
          "base_uri": "https://localhost:8080/"
        },
        "id": "kG6neEWLvhNo",
        "outputId": "4c3460bd-0a24-47fc-8e28-c396fcb60f70"
      },
      "execution_count": 108,
      "outputs": [
        {
          "output_type": "execute_result",
          "data": {
            "text/plain": [
              "array([[5]], dtype=uint8)"
            ]
          },
          "metadata": {},
          "execution_count": 108
        }
      ]
    },
    {
      "cell_type": "code",
      "source": [
        "# 비용 함수 클래스, 비용 함수의 종류에 따라 다른 클래스 내 함수를 사용한다.\n",
        "class cost_function:\n",
        "  # 예측값\n",
        "  predict = []\n",
        "  # 타겟값\n",
        "  target = []\n",
        "  # 비용 함수값\n",
        "  error_cost = []\n",
        "\n",
        "  # 오차 제곱합\n",
        "  def errer_squared_sum(self, predict, target):\n",
        "    self.predict = predict\n",
        "    self.target = target\n",
        "\n",
        "    self.error_cost = np.sum(0.5*((predict - target)**2))\n",
        "    return self.error_cost\n",
        "\n",
        "  # 오차 제곱합 미분 함수\n",
        "  def diff_error_squared_sum(self, predict, target):\n",
        "    self.predict = predict\n",
        "    self.target = target\n",
        "\n",
        "    return self.predict - self.target"
      ],
      "metadata": {
        "id": "G0nD-WVBMq_G"
      },
      "execution_count": 109,
      "outputs": []
    },
    {
      "cell_type": "code",
      "source": [
        "# 활성화 함수\n",
        "class activation_function:\n",
        "  # 시그모이드 함수\n",
        "  def sigmoid(self, x):\n",
        "    return 1 / (1+np.e**-x)\n",
        "  \n",
        "  # 시그모이드 함수의 미분 함수\n",
        "  def sigmoid_diff(self, x):  \n",
        "    return self.sigmoid(x) * (1 - self.sigmoid(x))"
      ],
      "metadata": {
        "id": "eZ-6cSrDeLar"
      },
      "execution_count": 110,
      "outputs": []
    },
    {
      "cell_type": "code",
      "source": [
        "class PADDING:\n",
        "\n",
        "  def padding(self, input, padding_size):\n",
        "    \"\"\"\n",
        "    input : 입력 데이터\n",
        "    padding_size : padding 연산 후의 데이터 크기\n",
        "    \"\"\"\n",
        "    if(padding_size == 0):\n",
        "      return input\n",
        "\n",
        "    padding_matrix = np.zeros((input.shape[0] + padding_size, input.shape[1] + padding_size))\n",
        "\n",
        "    for i in range(input.shape[0]):\n",
        "      for j in range(input.shape[1]):\n",
        "        padding_matrix[i + int(padding_size / 2)][j + int(padding_size / 2)] = input[i][j]\n",
        "    \n",
        "    return padding_matrix\n"
      ],
      "metadata": {
        "id": "V9ODurlEQrST"
      },
      "execution_count": 111,
      "outputs": []
    },
    {
      "cell_type": "code",
      "source": [
        "class POOLING:\n",
        "  pad = PADDING()\n",
        "\n",
        "  pool_result = []\n",
        "\n",
        "  def max_pooling(self, input, pooling_size):\n",
        "    \"\"\"\n",
        "    input : 입력 데이터\n",
        "    pooling_size : pooling size\n",
        "    \"\"\"\n",
        "    self.pool_result = []\n",
        "    \n",
        "    pooling_matrix = self.pad.padding(input, input.shape[0] % pooling_size)\n",
        "\n",
        "    for col in range(0, pooling_matrix.shape[0], pooling_size):\n",
        "      for row in range(0, pooling_matrix.shape[1], pooling_size):\n",
        "        pool_arr = []\n",
        "        for pooling_col in range(pooling_size):\n",
        "          for pooling_row in range(pooling_size):        \n",
        "            pool_arr.append(pooling_matrix[pooling_col + col, pooling_row + row])\n",
        "        self.pool_result.append(max(pool_arr))\n",
        "    \n",
        "    # 연산 결과를 크기에 맞게 바꿔준다.\n",
        "    return np.array(self.pool_result).reshape(int(pooling_matrix.shape[0] / pooling_size), -1)\n",
        "\n"
      ],
      "metadata": {
        "id": "heCrPvwjX1Aw"
      },
      "execution_count": 112,
      "outputs": []
    },
    {
      "cell_type": "code",
      "execution_count": 113,
      "metadata": {
        "id": "mj1m2ApBdPrL"
      },
      "outputs": [],
      "source": [
        "class MLP:\n",
        "  #입력값\n",
        "  input_data = []\n",
        "\n",
        "  #가중치\n",
        "  weight = []\n",
        "\n",
        "  #편향값\n",
        "  bias = []\n",
        "    \n",
        "  # 각 층별 노드들의 출력\n",
        "  node_output = []\n",
        "\n",
        "  # 타겟, 목푯값\n",
        "  target = []\n",
        "\n",
        "  # 각 층의 델타 값의 저장\n",
        "  delta = []\n",
        "\n",
        "  # 비용 함수\n",
        "  cost = cost_function()\n",
        "\n",
        "  # 활성화 함수\n",
        "  activation = activation_function()\n",
        "\n",
        "  # 가중치 업데이트 크기\n",
        "  weight_update = []\n",
        "  \n",
        "  #순전파 계산\n",
        "  def forward_cal(self, input, node_count):\n",
        "\n",
        "    # 가중치의 임의 생성, node_count 개수만큼의 은닉(또는 출력) 노드가 존재한다.\n",
        "    # (n,1) 개의 입력 값과 m 개의 노드 연결 (m, n) 크기의 가중치가 존재해야 한다.\n",
        "    weight = np.random.rand(node_count, input.shape[0])\n",
        "\n",
        "    #편향값의 임의 생성, 동일한 편향 값을 사용한다.\n",
        "    bias = np.random.rand(1)\n",
        "\n",
        "    #가중치와 노드 출력의 행렬곱연산, 편향값 덧셈\n",
        "    hidden_input = weight @ input + bias\n",
        "            \n",
        "    #노드 입력과 활성화 함수 연산을 통한 노드 출력 계산\n",
        "    # cnn 에선 0과 1 사이의 결과를 출력해야 하기 때문에 시그모이드 활성화 함수를 사용용\n",
        "    output = self.activation.sigmoid(hidden_input)\n",
        "            \n",
        "    #노드 출력의 저장(델타 값의 계산을 위해)\n",
        "    self.node_output.append(output)\n",
        "\n",
        "    # 가중치 값 저장\n",
        "    self.weight.append(weight)\n",
        "\n",
        "    # 편향 값 저장\n",
        "    self.bias.append(bias)\n",
        "\n",
        "    return output\n",
        "\n",
        "  def cost_function(self, target):\n",
        "    self.target = target\n",
        "    return self.cost.errer_squared_sum(self.predict, target)\n",
        "\n",
        "  # 비용 함수에 대한 delta 값 계산\n",
        "  def cal_delta_result(self, predict, target):  \n",
        "    #출력층 노드의 변화량에 대한 오차 함수의 변화량 계산\n",
        "    delta = (self.cost.diff_error_squared_sum(predict, target) * self.activation.sigmoid_diff(predict))\n",
        "\n",
        "    self.delta.append(delta)\n",
        "\n",
        "  # 은닉층에 대한 delta 값 계산, 가중치 변화량이 누적된다.\n",
        "  def cal_delta_hidden(self, node_input):\n",
        "    # 이전층의 delta 값을 구하기 위해 \n",
        "    delta = self.weight[len(self.weight) - len(self.delta)].T @ self.delta[(len(self.delta) - 1)]\n",
        "    delta = delta * self.activation.sigmoid_diff(node_input)\n",
        "\n",
        "    print(delta.shape)\n",
        "\n",
        "    self.delta.append(delta)\n",
        "\n",
        "  #델타(노드 변화량에 대한 비용 함수의 변화량) 계산\n",
        "  def cal_delta(self):\n",
        "\n",
        "    #출력층 노드의 변화량에 대한 오차 함수의 변화량 계산\n",
        "    delta = (self.cost.diff_error_squared_sum() * self.activation.sigmoid_diff(self.predict))\n",
        "    self.delta.append(delta)\n",
        "\n",
        "    #이전층 노드의 delta 값 계산과 함께, 가중치 변화량에 대한 비용 함수의 변화량을 계산한다.\n",
        "    for i in range(len(self.node_output) - 2, -1, -1):\n",
        "\n",
        "      weight_update = (delta @ self.node_output[i].T).T\n",
        "      self.weight_update.append(weight_update)\n",
        "      delta = self.weight[i]@delta\n",
        "      delta = delta * self.activation.sigmoid_diff(self.node_output[i])\n",
        "      self.delta.append(delta)\n",
        "  \n",
        "  # 가중치 업데이트 크기 계산 함수\n",
        "  def update_weight(self, learning_rate):\n",
        "    # 거꾸로 계산된 가중치 업데이트 배열을 뒤집어준다.\n",
        "    self.weight_update = self.weight_update[::-1]\n",
        "    for i in range(len(self.weight)):\n",
        "      weight = self.weight[i]\n",
        "      weight_update = self.weight_update[i]\n",
        "\n",
        "      self.weight[i] = weight - weight_update * learning_rate\n"
      ]
    },
    {
      "cell_type": "code",
      "source": [
        "class CNN:\n",
        "\n",
        "  # 필터의 개수만큼 가중치가 존재\n",
        "  cnn_weight = []\n",
        "  \n",
        "  # 패딩\n",
        "  pad = PADDING()\n",
        "\n",
        "  # 풀링\n",
        "  pool = POOLING()\n",
        "\n",
        "  # MLP\n",
        "  mlp = MLP()  \n",
        "\n",
        "  # 데이터 크기\n",
        "  data_size = 0\n",
        "\n",
        "  # 레이어 구현\n",
        "  layer_result = []\n",
        "\n",
        "  # 현재 레이어 \n",
        "  layer = 0\n",
        "\n",
        "  # delta 값\n",
        "  delta = []\n",
        "\n",
        "  # target 값\n",
        "  target = []\n",
        "  \n",
        "  def cal_cnn(self, input, target, filter_size, filter_count):\n",
        "    # 각 필터별 연산 결과를 저장할 리스트\n",
        "    filter_result_arr = []\n",
        "\n",
        "    # 가중치 행렬 생성\n",
        "    weight_arr = []\n",
        "\n",
        "    # 타겟값 저장\n",
        "    self.target = target\n",
        "\n",
        "    # 입력 받은 필터의 개수만큼 반복\n",
        "    for i in range(filter_count):\n",
        "\n",
        "      # 필터 크기에 맞는 임의의 가중치 생성\n",
        "      weight = np.random.random(filter_size * filter_size).reshape(filter_size, filter_size)\n",
        "      \n",
        "      weight_arr.append(weight)\n",
        "      \n",
        "      # 합성곱 연산 결과가 저장된다.\n",
        "      result_arr = []\n",
        "\n",
        "      # 합성곱 연산 수행\n",
        "      for col in range(input.shape[0] - weight.shape[0] + 1):\n",
        "        for row in range(input.shape[1] - weight.shape[1] + 1):\n",
        "          result = []\n",
        "          for w_col in range(weight.shape[0]):\n",
        "            for w_row in range(weight.shape[1]):\n",
        "              result.append(input[col + w_col, row + w_row ] * weight[w_col, w_row])\n",
        "          result_arr.append(np.sum(result))\n",
        "\n",
        "      # 연산 결과를 크기에 맞게 바꿔준다.\n",
        "      result_arr = np.array(result_arr).reshape(input.shape[0] - weight.shape[0] + 1, -1)\n",
        "\n",
        "      # 연산 결과의 저장 (numpy 형태)\n",
        "      filter_result_arr.append(result_arr)\n",
        "    \n",
        "    # 가중치 행렬의 저장\n",
        "    self.cnn_weight.append(weight_arr)\n",
        "\n",
        "    # 층에다가 결과를 저장한다. 모든 필터의 결과가 저장\n",
        "    self.layer_result.append(filter_result_arr)\n",
        "\n",
        "    # 레이어의 추가\n",
        "    self.layer = self.layer +1\n",
        "\n",
        "  def same_padding_cnn(self, input, filter_size, filter_count):\n",
        "    # 각 필터별 연산 결과를 저장할 리스트\n",
        "    filter_result_arr = []\n",
        "    \n",
        "    # 데이터 크기 지정\n",
        "    self.data_size = input.shape[0]\n",
        "\n",
        "    # 입력 받은 필터의 개수만큼 반복\n",
        "    for i in range(filter_count):\n",
        "\n",
        "      # 필터 크기에 맞는 임의의 가중치 생성\n",
        "      weight = np.random.random(filter_size * filter_size).reshape(filter_size, filter_size)\n",
        "      \n",
        "      self.cnn_weight.append(weight)\n",
        "      \n",
        "      # 합성곱 연산 결과가 저장된다.\n",
        "      result_arr = []\n",
        "\n",
        "      # 합성곱 연산 수행행\n",
        "      for col in range(input.shape[0] - weight.shape[0] + 1):\n",
        "        for row in range(input.shape[1] - weight.shape[1] + 1):\n",
        "          result = []\n",
        "          for w_col in range(weight.shape[0]):\n",
        "            for w_row in range(weight.shape[1]):\n",
        "              result.append(input[col + w_col, row + w_row ] * weight[w_col, w_row])\n",
        "          result_arr.append(np.sum(result))\n",
        "\n",
        "      # 연산 결과를 크기에 맞게 바꿔준다.\n",
        "      result_arr = np.array(result_arr).reshape(input.shape[0] - weight.shape[0] + 1, -1)\n",
        "\n",
        "      result_arr = self.pad.padding(result_arr, input.shape[0] - result_arr.shape[0])\n",
        "\n",
        "      # 연산 결과의 저장\n",
        "      filter_result_arr.append(result_arr)\n",
        "    \n",
        "    # 층에다가 결과를 저장한다.\n",
        "    self.layer_result.append(filter_result_arr)\n",
        "\n",
        "    # 레이어의 추가\n",
        "    self.layer = self.layer +1\n",
        "\n",
        "  def pooling(self, pooling_size):\n",
        "    # 각 필터별 연산 결과를 저장할 리스트\n",
        "    filter_result_arr = []\n",
        "\n",
        "    # 이전 레이어의 필터 개수만큼 반복.\n",
        "    for i in range(len(self.layer_result[self.layer - 1])):\n",
        "      # numpy array 의 반환\n",
        "      pooling_result = self.pool.max_pooling(self.layer_result[self.layer - 1][i], pooling_size)\n",
        "\n",
        "      filter_result_arr.append(pooling_result)\n",
        "    \n",
        "    self.layer_result.append(filter_result_arr)\n",
        "\n",
        "    # 레이어의 추가\n",
        "    self.layer = self.layer +1\n",
        "\n",
        "  # 두 번째 층 이후의 cnn 연산 함수, 입력값은 이전 층의 출력이 된다.\n",
        "  def layer_cnn(self, filter_size, filter_count):\n",
        "    # 각 필터별 연산 결과를 저장할 리스트\n",
        "    filter_result_arr = []\n",
        "\n",
        "    # 각 layer 별 가중치를 저장할 리스트\n",
        "    weight_arr = []\n",
        "\n",
        "    # 입력 받은 필터의 개수만큼 반복\n",
        "    for i in range(filter_count):\n",
        "\n",
        "      # 필터 크기에 맞는 임의의 가중치 생성\n",
        "      weight = np.random.random(filter_size * filter_size).reshape(filter_size, filter_size)\n",
        "      \n",
        "      weight_arr.append(weight)\n",
        "      \n",
        "      # 합성곱 연산 결과가 저장된다.\n",
        "      result_arr = []\n",
        "\n",
        "      # 합성곱 연산 수행. 이전 레이어의 필터 출력 크기에 맞게 반복이 시행된다.\n",
        "      for col in range(self.layer_result[self.layer - 1][0].shape[0] - weight.shape[0] + 1):\n",
        "        for row in range(self.layer_result[self.layer - 1][0].shape[1] - weight.shape[1] + 1):\n",
        "          result = []\n",
        "          for w_col in range(weight.shape[0]):\n",
        "            for w_row in range(weight.shape[1]):\n",
        "              result.append(input[col + w_col, row + w_row ] * weight[w_col, w_row])\n",
        "          result_arr.append(np.sum(result))\n",
        "          \n",
        "      # 연산 결과를 크기에 맞게 바꿔준다.\n",
        "      result_arr = np.array(result_arr).reshape(self.layer_result[self.layer - 1][0].shape[0] - weight.shape[0] + 1, -1)\n",
        "\n",
        "      result_arr = self.pad.padding(result_arr, self.layer_result[self.layer - 1][0].shape[0] - result_arr.shape[0])\n",
        "\n",
        "      # 연산 결과의 저장\n",
        "      filter_result_arr.append(result_arr)\n",
        "    \n",
        "    # 층에다가 결과를 저장한다.\n",
        "    self.layer_result.append(filter_result_arr)\n",
        "\n",
        "    # 가중치의 저장\n",
        "    self.cnn_weight.append(weight_arr)\n",
        "\n",
        "    # 레이어의 추가\n",
        "    self.layer = self.layer +1\n",
        "\n",
        "  def flatten(self):\n",
        "    data = self.layer_result[self.layer - 1]\n",
        "    \n",
        "    data_arr = []\n",
        "\n",
        "    # 필터의 개수만큼 반복\n",
        "    for filter_count in range(len(data)):\n",
        "      for filter_size_col in range(data[filter_count].shape[0]):\n",
        "        for filter_size_row in range(data[filter_count].shape[1]):\n",
        "          data_arr.append(data[filter_count][filter_size_col][filter_size_row])\n",
        "\n",
        "    self.layer_result.append(np.array(data_arr).reshape(-1,1))\n",
        "\n",
        "    self.layer = self.layer + 1\n",
        "\n",
        "  # MLP 층의 연결, 순전파 연산\n",
        "\n",
        "  def mlp_forward_cal(self, node_count):\n",
        "    self.layer_result.append(self.mlp.forward_cal(self.layer_result[self.layer-1], node_count))\n",
        "\n",
        "    self.cnn_weight.append(self.mlp.weight)\n",
        "\n",
        "    self.layer = self.layer +1   \n",
        "\n",
        "  def cal_delta_result_layer(self):\n",
        "\n",
        "    self.mlp.cal_delta_result(self.layer_result[self.layer - 1], self.target)\n",
        "\n",
        "  def cal_delta_hidden_layer(self):\n",
        "    # 노드 입력값을 넘겨준다.\n",
        "    self.delta.append(self.mlp.cal_delta_hidden(self.layer_result[self.layer - len(self.mlp.delta) - 1]))\n",
        "\n",
        "\n"
      ],
      "metadata": {
        "id": "-cGe0Svl3Nu8"
      },
      "execution_count": 114,
      "outputs": []
    },
    {
      "cell_type": "code",
      "source": [
        "cnn = CNN()"
      ],
      "metadata": {
        "id": "uxX2c54fmrsb"
      },
      "execution_count": 115,
      "outputs": []
    },
    {
      "cell_type": "code",
      "source": [
        "cnn.target = target"
      ],
      "metadata": {
        "id": "tptNab22Viey"
      },
      "execution_count": 116,
      "outputs": []
    },
    {
      "cell_type": "code",
      "source": [
        "cnn.same_padding_cnn(input, 7, 64)"
      ],
      "metadata": {
        "id": "-hOTaSWOudZY"
      },
      "execution_count": 117,
      "outputs": []
    },
    {
      "cell_type": "code",
      "source": [
        "cnn.pooling(2)"
      ],
      "metadata": {
        "id": "guoAjaXWwIrG"
      },
      "execution_count": 118,
      "outputs": []
    },
    {
      "cell_type": "code",
      "source": [
        "cnn.layer_cnn(3, 128)"
      ],
      "metadata": {
        "id": "yXYgTdRiuY3r"
      },
      "execution_count": 119,
      "outputs": []
    },
    {
      "cell_type": "code",
      "source": [
        "cnn.pooling(2)"
      ],
      "metadata": {
        "id": "UrIL7QTELkJg"
      },
      "execution_count": 120,
      "outputs": []
    },
    {
      "cell_type": "code",
      "source": [
        "cnn.layer_cnn(3, 256)"
      ],
      "metadata": {
        "id": "VGY3eKkAMGvF"
      },
      "execution_count": 121,
      "outputs": []
    },
    {
      "cell_type": "code",
      "source": [
        "cnn.pooling(2)"
      ],
      "metadata": {
        "id": "lVu9iCmpMOAt"
      },
      "execution_count": 122,
      "outputs": []
    },
    {
      "cell_type": "code",
      "source": [
        "cnn_result = cnn.flatten()"
      ],
      "metadata": {
        "id": "XnlEuV0CVbqz"
      },
      "execution_count": 123,
      "outputs": []
    },
    {
      "cell_type": "code",
      "source": [
        "cnn.mlp_forward_cal(128)"
      ],
      "metadata": {
        "id": "6wnaC1CCe17P"
      },
      "execution_count": 124,
      "outputs": []
    },
    {
      "cell_type": "code",
      "source": [
        "cnn.mlp_forward_cal(64)"
      ],
      "metadata": {
        "id": "H5NHv8_S6qFo"
      },
      "execution_count": 125,
      "outputs": []
    },
    {
      "cell_type": "code",
      "source": [
        "cnn.mlp_forward_cal(10)"
      ],
      "metadata": {
        "id": "xILM6Aps7N80"
      },
      "execution_count": 126,
      "outputs": []
    },
    {
      "cell_type": "code",
      "source": [
        "cnn.cal_delta_result_layer()"
      ],
      "metadata": {
        "id": "rMFYRDeg2Euf"
      },
      "execution_count": 127,
      "outputs": []
    },
    {
      "cell_type": "code",
      "source": [
        "cnn.cal_delta_hidden_layer()"
      ],
      "metadata": {
        "colab": {
          "base_uri": "https://localhost:8080/"
        },
        "id": "KR32-4Bn2KN7",
        "outputId": "5eaba32d-2964-4263-ca6b-f93e8e6346ad"
      },
      "execution_count": 128,
      "outputs": [
        {
          "output_type": "stream",
          "name": "stdout",
          "text": [
            "(64, 1)\n"
          ]
        }
      ]
    },
    {
      "cell_type": "code",
      "source": [
        "cnn.cal_delta_hidden_layer()"
      ],
      "metadata": {
        "colab": {
          "base_uri": "https://localhost:8080/"
        },
        "id": "9eZp_I_7nnpv",
        "outputId": "00dfd04a-3e13-4dac-f7ed-8bad873673a8"
      },
      "execution_count": 131,
      "outputs": [
        {
          "output_type": "stream",
          "name": "stdout",
          "text": [
            "(128, 1)\n"
          ]
        }
      ]
    },
    {
      "cell_type": "code",
      "source": [
        "cnn.cal_delta_hidden_layer()"
      ],
      "metadata": {
        "colab": {
          "base_uri": "https://localhost:8080/"
        },
        "id": "u9qeFVphrHjJ",
        "outputId": "de87bc48-0ad4-4bef-8626-27d76bf48bcc"
      },
      "execution_count": 132,
      "outputs": [
        {
          "output_type": "stream",
          "name": "stdout",
          "text": [
            "(4096, 1)\n"
          ]
        }
      ]
    },
    {
      "cell_type": "code",
      "source": [],
      "metadata": {
        "id": "M4S6rPkWrIQH"
      },
      "execution_count": null,
      "outputs": []
    }
  ]
}