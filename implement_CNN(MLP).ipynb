{
  "nbformat": 4,
  "nbformat_minor": 0,
  "metadata": {
    "colab": {
      "provenance": []
    },
    "kernelspec": {
      "name": "python3",
      "display_name": "Python 3"
    },
    "language_info": {
      "name": "python"
    }
  },
  "cells": [
    {
      "cell_type": "code",
      "execution_count": 295,
      "metadata": {
        "id": "sOOrnfrEqOys"
      },
      "outputs": [],
      "source": [
        "import numpy as np"
      ]
    },
    {
      "cell_type": "code",
      "source": [
        "from tensorflow.keras import datasets\n",
        "\n",
        "(X_tn0, y_tn0), (X_te0, y_te0) = datasets.mnist.load_data()"
      ],
      "metadata": {
        "id": "9ODSxTJ9-jQR"
      },
      "execution_count": 296,
      "outputs": []
    },
    {
      "cell_type": "code",
      "source": [
        "input = X_tn0[0]\n",
        "input.shape"
      ],
      "metadata": {
        "colab": {
          "base_uri": "https://localhost:8080/"
        },
        "id": "Dp8WqHOEvspn",
        "outputId": "5638af88-4315-405a-eada-340205778336"
      },
      "execution_count": 297,
      "outputs": [
        {
          "output_type": "execute_result",
          "data": {
            "text/plain": [
              "(28, 28)"
            ]
          },
          "metadata": {},
          "execution_count": 297
        }
      ]
    },
    {
      "cell_type": "code",
      "source": [
        "target = np.array(y_tn0[0]).reshape(1, -1)\n",
        "target"
      ],
      "metadata": {
        "colab": {
          "base_uri": "https://localhost:8080/"
        },
        "id": "kG6neEWLvhNo",
        "outputId": "dd0cb5f6-f65a-4671-fc1a-d1c6b48ead1e"
      },
      "execution_count": 298,
      "outputs": [
        {
          "output_type": "execute_result",
          "data": {
            "text/plain": [
              "array([[5]], dtype=uint8)"
            ]
          },
          "metadata": {},
          "execution_count": 298
        }
      ]
    },
    {
      "cell_type": "code",
      "source": [
        "# 비용 함수 클래스, 비용 함수의 종류에 따라 다른 클래스 내 함수를 사용한다.\n",
        "class cost_function:\n",
        "  # 예측값\n",
        "  predict = []\n",
        "  # 타겟값\n",
        "  target = []\n",
        "  # 비용 함수값\n",
        "  error_cost = []\n",
        "\n",
        "  # 오차 제곱합\n",
        "  def errer_squared_sum(self, predict, target):\n",
        "    self.predict = predict\n",
        "    self.target = target\n",
        "\n",
        "    self.error_cost = np.sum(0.5*((predict - target)**2))\n",
        "    return self.error_cost\n",
        "\n",
        "  # 오차 제곱합 미분 함수\n",
        "  def diff_error_squared_sum(self):\n",
        "    return self.predict - self.target"
      ],
      "metadata": {
        "id": "G0nD-WVBMq_G"
      },
      "execution_count": 299,
      "outputs": []
    },
    {
      "cell_type": "code",
      "source": [
        "# 활성화 함수\n",
        "class activation_function:\n",
        "  # 시그모이드 함수\n",
        "  def sigmoid(self, x):\n",
        "    return 1 / (1+np.e**-x)\n",
        "  \n",
        "  # 시그모이드 함수의 미분 함수\n",
        "  def sigmoid_diff(self, x):\n",
        "    return x * (1 - x)"
      ],
      "metadata": {
        "id": "eZ-6cSrDeLar"
      },
      "execution_count": 300,
      "outputs": []
    },
    {
      "cell_type": "code",
      "execution_count": 301,
      "metadata": {
        "id": "mj1m2ApBdPrL"
      },
      "outputs": [],
      "source": [
        "class MLP:\n",
        "  #입력값\n",
        "  input_data = []\n",
        "  #가중치\n",
        "  weight = []\n",
        "  #편향값\n",
        "  bias = []\n",
        "    \n",
        "  # 각 층별 노드들의 입력\n",
        "  node_input = []\n",
        "  # 각 층별 노드들의 출력\n",
        "  node_output = []\n",
        "\n",
        "  # 순전파 연산 결과, 예상값\n",
        "  predict = []\n",
        "  # 타겟, 목푯값\n",
        "  target = []\n",
        "\n",
        "  # 각 층의 델타 값의 저장\n",
        "  delta = []\n",
        "\n",
        "  # 비용 함수\n",
        "  cost = cost_function()\n",
        "\n",
        "  # 활성화 함수\n",
        "  activation = activation_function()\n",
        "\n",
        "  # 가중치 업데이트 크기\n",
        "  weight_update = []\n",
        "  \n",
        "  #순전파 계산\n",
        "  def forward_cal(self, input, node_count, target):\n",
        "\n",
        "    # 가중치의 임의 생성, node_count 개수만큼의 은닉(또는 출력) 노드가 존재한다.\n",
        "    # (n,1) 개의 입력 값과 m 개의 노드 연결 (m, n) 크기의 가중치가 존재해야 한다.\n",
        "    weight = np.random.rand(node_count, input.shape[0])\n",
        "\n",
        "    #편향값의 임의 생성, 동일한 편향 값을 사용한다.\n",
        "    bias = np.random.rand(1)\n",
        "\n",
        "    #가중치와 노드 출력의 행렬곱연산, 편향값 덧셈\n",
        "    hidden_input = weight @ input + bias\n",
        "            \n",
        "    #노드 입력과 활성화 함수 연산을 통한 노드 출력 계산\n",
        "    # cnn 에선 0과 1 사이의 결과를 출력해야 하기 때문에 시그모이드 활성화 함수를 사용용\n",
        "    output = self.activation.sigmoid(hidden_input)\n",
        "            \n",
        "    #노드 출력의 저장(델타 값의 계산을 위해)\n",
        "    self.node_output.append(output)\n",
        "\n",
        "  def cost_function(self, target):\n",
        "    self.target = target\n",
        "    return self.cost.errer_squared_sum(self.predict, target)\n",
        "\n",
        "  #델타(노드 변화량에 대한 비용 함수의 변화량) 계산산\n",
        "  def cal_delta(self):\n",
        "    #출력층 노드의 변화량에 대한 오차 함수의 변화량 계산\n",
        "    delta = (self.cost.diff_error_squared_sum() * self.activation.sigmoid_diff(self.predict))\n",
        "    self.delta.append(delta)\n",
        "\n",
        "    #이전층 노드의 delta 값 계산과 함께, 가중치 변화량에 대한 비용 함수의 변화량을 계산한다.\n",
        "    for i in range(len(self.node_output) - 2, -1, -1):\n",
        "\n",
        "      weight_update = (delta @ self.node_output[i].T).T\n",
        "      self.weight_update.append(weight_update)\n",
        "      delta = self.weight[i]@delta\n",
        "      delta = delta * self.activation.sigmoid_diff(self.node_output[i])\n",
        "      self.delta.append(delta)\n",
        "  \n",
        "  # 가중치 업데이트 크기 계산 함수\n",
        "  def update_weight(self, learning_rate):\n",
        "    # 거꾸로 계산된 가중치 업데이트 배열을 뒤집어준다.\n",
        "    self.weight_update = self.weight_update[::-1]\n",
        "    for i in range(len(self.weight)):\n",
        "      weight = self.weight[i]\n",
        "      weight_update = self.weight_update[i]\n",
        "\n",
        "      self.weight[i] = weight - weight_update * learning_rate\n",
        "\n",
        "  # 반복 학습을 위한 함수\n",
        "  def forward_cal_iterations(self, iterations, learning_rate):\n",
        "    self.node_output.append(self.input_data)\n",
        "    \n",
        "    # 지정한 반복 횟수만큼 학습 시행\n",
        "    for i in range(iterations):\n",
        "      # 순전파 계산 수행\n",
        "      for j in range(len(self.weight)):\n",
        "        hidden_input = self.weight[j].T @ self.node_output[j] + self.bias[j][0]\n",
        "\n",
        "        output = self.activation.sigmoid(hidden_input)\n",
        "\n",
        "        self.node_output.append(output)\n",
        "      \n",
        "      self.predict = output\n",
        "      print(self.cost_function(self.target), \"비용 함수값\")\n",
        "      self.cal_delta\n",
        "      self.weight_update = self.weight_update[::-1]\n",
        "      self.weight_update\n",
        "      self.update_weight(learning_rate)\n"
      ]
    },
    {
      "cell_type": "code",
      "source": [
        "class PADDING:\n",
        "\n",
        "  def padding(self, input, padding_size):\n",
        "    \"\"\"\n",
        "    input : 입력 데이터\n",
        "    padding_size : padding 연산 후의 데이터 크기\n",
        "    \"\"\"\n",
        "    if(padding_size == 0):\n",
        "      return input\n",
        "\n",
        "    padding_matrix = np.zeros((input.shape[0] + padding_size, input.shape[1] + padding_size))\n",
        "\n",
        "    for i in range(input.shape[0]):\n",
        "      for j in range(input.shape[1]):\n",
        "        padding_matrix[i + int(padding_size / 2)][j + int(padding_size / 2)] = input[i][j]\n",
        "    \n",
        "    return padding_matrix\n"
      ],
      "metadata": {
        "id": "V9ODurlEQrST"
      },
      "execution_count": 302,
      "outputs": []
    },
    {
      "cell_type": "code",
      "source": [
        "class POOLING:\n",
        "  pad = PADDING()\n",
        "\n",
        "  pool_result = []\n",
        "\n",
        "  def max_pooling(self, input, pooling_size):\n",
        "    \"\"\"\n",
        "    input : 입력 데이터\n",
        "    pooling_size : pooling size\n",
        "    \"\"\"\n",
        "    self.pool_result = []\n",
        "    \n",
        "    pooling_matrix = self.pad.padding(input, input.shape[0] % pooling_size)\n",
        "\n",
        "    for col in range(0, pooling_matrix.shape[0], pooling_size):\n",
        "      for row in range(0, pooling_matrix.shape[1], pooling_size):\n",
        "        pool_arr = []\n",
        "        for pooling_col in range(pooling_size):\n",
        "          for pooling_row in range(pooling_size):        \n",
        "            pool_arr.append(pooling_matrix[pooling_col + col, pooling_row + row])\n",
        "        self.pool_result.append(max(pool_arr))\n",
        "    \n",
        "    # 연산 결과를 크기에 맞게 바꿔준다.\n",
        "    return np.array(self.pool_result).reshape(int(pooling_matrix.shape[0] / pooling_size), -1)\n",
        "\n"
      ],
      "metadata": {
        "id": "heCrPvwjX1Aw"
      },
      "execution_count": 303,
      "outputs": []
    },
    {
      "cell_type": "code",
      "source": [
        "class CNN:\n",
        "\n",
        "  # 필터의 개수만큼 가중치가 존재\n",
        "  cnn_weight = []\n",
        "  \n",
        "  # 패딩\n",
        "  pad = PADDING()\n",
        "\n",
        "  # 풀링\n",
        "  pool = POOLING()\n",
        "\n",
        "  # MLP\n",
        "  mlp = MLP()  \n",
        "\n",
        "  # 데이터 크기\n",
        "  data_size = 0\n",
        "\n",
        "  # 레이어 구현\n",
        "  layer_result = []\n",
        "\n",
        "  # 현재 레이어 \n",
        "  layer = 0\n",
        "  \n",
        "  def cal_cnn(self, input, target, filter_size, filter_count):\n",
        "    # 각 필터별 연산 결과를 저장할 리스트\n",
        "    filter_result_arr = []\n",
        "    \n",
        "    # 입력 받은 필터의 개수만큼 반복\n",
        "    for i in range(filter_count):\n",
        "\n",
        "      # 필터 크기에 맞는 임의의 가중치 생성\n",
        "      weight = np.random.random(filter_size * filter_size).reshape(filter_size, filter_size)\n",
        "      \n",
        "      self.cnn_weight.append(weight)\n",
        "      \n",
        "      # 합성곱 연산 결과가 저장된다.\n",
        "      result_arr = []\n",
        "\n",
        "      # 합성곱 연산 수행\n",
        "      for col in range(input.shape[0] - weight.shape[0] + 1):\n",
        "        for row in range(input.shape[1] - weight.shape[1] + 1):\n",
        "          result = []\n",
        "          for w_col in range(weight.shape[0]):\n",
        "            for w_row in range(weight.shape[1]):\n",
        "              result.append(input[col + w_col, row + w_row ] * weight[w_col, w_row])\n",
        "          result_arr.append(np.sum(result))\n",
        "\n",
        "      # 연산 결과를 크기에 맞게 바꿔준다.\n",
        "      result_arr = np.array(result_arr).reshape(input.shape[0] - weight.shape[0] + 1, -1)\n",
        "\n",
        "      # 연산 결과의 저장 (numpy 형태)\n",
        "      filter_result_arr.append(result_arr)\n",
        "    \n",
        "    # 층에다가 결과를 저장한다. 모든 필터의 결과가 저장\n",
        "    self.layer_result.append(filter_result_arr)\n",
        "\n",
        "    # 레이어의 추가\n",
        "    self.layer = self.layer +1\n",
        "\n",
        "  def same_padding_cnn(self, input, filter_size, filter_count):\n",
        "    # 각 필터별 연산 결과를 저장할 리스트\n",
        "    filter_result_arr = []\n",
        "    \n",
        "    # 데이터 크기 지정\n",
        "    self.data_size = input.shape[0]\n",
        "\n",
        "    # 입력 받은 필터의 개수만큼 반복\n",
        "    for i in range(filter_count):\n",
        "\n",
        "      # 필터 크기에 맞는 임의의 가중치 생성\n",
        "      weight = np.random.random(filter_size * filter_size).reshape(filter_size, filter_size)\n",
        "      \n",
        "      self.cnn_weight.append(weight)\n",
        "      \n",
        "      # 합성곱 연산 결과가 저장된다.\n",
        "      result_arr = []\n",
        "\n",
        "      # 합성곱 연산 수행행\n",
        "      for col in range(input.shape[0] - weight.shape[0] + 1):\n",
        "        for row in range(input.shape[1] - weight.shape[1] + 1):\n",
        "          result = []\n",
        "          for w_col in range(weight.shape[0]):\n",
        "            for w_row in range(weight.shape[1]):\n",
        "              result.append(input[col + w_col, row + w_row ] * weight[w_col, w_row])\n",
        "          result_arr.append(np.sum(result))\n",
        "\n",
        "      # 연산 결과를 크기에 맞게 바꿔준다.\n",
        "      result_arr = np.array(result_arr).reshape(input.shape[0] - weight.shape[0] + 1, -1)\n",
        "\n",
        "      result_arr = self.pad.padding(result_arr, input.shape[0] - result_arr.shape[0])\n",
        "\n",
        "      # 연산 결과의 저장\n",
        "      filter_result_arr.append(result_arr)\n",
        "    \n",
        "    # 층에다가 결과를 저장한다.\n",
        "    self.layer_result.append(filter_result_arr)\n",
        "\n",
        "    # 레이어의 추가\n",
        "    self.layer = self.layer +1\n",
        "\n",
        "  def pooling(self, pooling_size):\n",
        "    # 각 필터별 연산 결과를 저장할 리스트\n",
        "    filter_result_arr = []\n",
        "\n",
        "    # 이전 레이어의 필터 개수만큼 반복.\n",
        "    for i in range(len(self.layer_result[self.layer - 1])):\n",
        "      # numpy array 의 반환\n",
        "      pooling_result = self.pool.max_pooling(self.layer_result[self.layer - 1][i], pooling_size)\n",
        "\n",
        "      filter_result_arr.append(pooling_result)\n",
        "    \n",
        "    self.layer_result.append(filter_result_arr)\n",
        "\n",
        "    # 레이어의 추가\n",
        "    self.layer = self.layer +1\n",
        "\n",
        "  # 두 번째 층 이후의 cnn 연산 함수, 입력값은 이전 층의 출력이 된다.\n",
        "  def layer_cnn(self, filter_size, filter_count):\n",
        "    # 각 필터별 연산 결과를 저장할 리스트\n",
        "    filter_result_arr = []\n",
        "\n",
        "    # 각 layer 별 가중치를 저장할 리스트\n",
        "    weight_arr = []\n",
        "\n",
        "    # 입력 받은 필터의 개수만큼 반복\n",
        "    for i in range(filter_count):\n",
        "\n",
        "      # 필터 크기에 맞는 임의의 가중치 생성\n",
        "      weight = np.random.random(filter_size * filter_size).reshape(filter_size, filter_size)\n",
        "      \n",
        "      weight_arr.append(weight)\n",
        "      \n",
        "      # 합성곱 연산 결과가 저장된다.\n",
        "      result_arr = []\n",
        "\n",
        "      # 합성곱 연산 수행. 이전 레이어의 필터 출력 크기에 맞게 반복이 시행된다.\n",
        "      for col in range(self.layer_result[self.layer - 1][0].shape[0] - weight.shape[0] + 1):\n",
        "        for row in range(self.layer_result[self.layer - 1][0].shape[1] - weight.shape[1] + 1):\n",
        "          result = []\n",
        "          for w_col in range(weight.shape[0]):\n",
        "            for w_row in range(weight.shape[1]):\n",
        "              result.append(input[col + w_col, row + w_row ] * weight[w_col, w_row])\n",
        "          result_arr.append(np.sum(result))\n",
        "          \n",
        "      # 연산 결과를 크기에 맞게 바꿔준다.\n",
        "      result_arr = np.array(result_arr).reshape(self.layer_result[self.layer - 1][0].shape[0] - weight.shape[0] + 1, -1)\n",
        "\n",
        "      result_arr = self.pad.padding(result_arr, self.layer_result[self.layer - 1][0].shape[0] - result_arr.shape[0])\n",
        "\n",
        "      # 연산 결과의 저장\n",
        "      filter_result_arr.append(result_arr)\n",
        "    \n",
        "    # 층에다가 결과를 저장한다.\n",
        "    self.layer_result.append(filter_result_arr)\n",
        "\n",
        "    # 가중치의 저장\n",
        "    self.cnn_weight.append(weight_arr)\n",
        "\n",
        "    # 레이어의 추가\n",
        "    self.layer = self.layer +1\n",
        "\n",
        "  def flatten(self):\n",
        "    data = self.layer_result[self.layer - 1]\n",
        "    \n",
        "    data_arr = []\n",
        "\n",
        "    # 필터의 개수만큼 반복\n",
        "    for filter_count in range(len(data)):\n",
        "      for filter_size_col in range(data[filter_count].shape[0]):\n",
        "        for filter_size_row in range(data[filter_count].shape[1]):\n",
        "          data_arr.append(data[filter_count][filter_size_col][filter_size_row])\n",
        "\n",
        "    return np.array(data_arr).reshape(-1,1)\n",
        "\n",
        "  def mlp(self, node_count):\n",
        "    self.mlp()\n"
      ],
      "metadata": {
        "id": "-cGe0Svl3Nu8"
      },
      "execution_count": 304,
      "outputs": []
    },
    {
      "cell_type": "code",
      "source": [
        "cnn = CNN()"
      ],
      "metadata": {
        "id": "uxX2c54fmrsb"
      },
      "execution_count": 305,
      "outputs": []
    },
    {
      "cell_type": "code",
      "source": [
        "cnn.same_padding_cnn(input, 7, 64)"
      ],
      "metadata": {
        "id": "-hOTaSWOudZY"
      },
      "execution_count": 306,
      "outputs": []
    },
    {
      "cell_type": "code",
      "source": [
        "cnn.layer_result[0][0].shape"
      ],
      "metadata": {
        "colab": {
          "base_uri": "https://localhost:8080/"
        },
        "id": "V8SAxea7uizf",
        "outputId": "9fed24f4-222d-4323-b2ef-c6834b876715"
      },
      "execution_count": 307,
      "outputs": [
        {
          "output_type": "execute_result",
          "data": {
            "text/plain": [
              "(28, 28)"
            ]
          },
          "metadata": {},
          "execution_count": 307
        }
      ]
    },
    {
      "cell_type": "code",
      "source": [
        "cnn.pooling(2)"
      ],
      "metadata": {
        "id": "guoAjaXWwIrG"
      },
      "execution_count": 309,
      "outputs": []
    },
    {
      "cell_type": "code",
      "source": [
        "cnn.layer_cnn(3, 128)"
      ],
      "metadata": {
        "id": "yXYgTdRiuY3r"
      },
      "execution_count": 311,
      "outputs": []
    },
    {
      "cell_type": "code",
      "source": [
        "cnn.pooling(2)"
      ],
      "metadata": {
        "id": "UrIL7QTELkJg"
      },
      "execution_count": 314,
      "outputs": []
    },
    {
      "cell_type": "code",
      "source": [
        "cnn.layer_cnn(3, 256)"
      ],
      "metadata": {
        "id": "VGY3eKkAMGvF"
      },
      "execution_count": 317,
      "outputs": []
    },
    {
      "cell_type": "code",
      "source": [
        "cnn.pooling(2)"
      ],
      "metadata": {
        "id": "lVu9iCmpMOAt"
      },
      "execution_count": 320,
      "outputs": []
    },
    {
      "cell_type": "code",
      "source": [
        "cnn_result = cnn.flatten()"
      ],
      "metadata": {
        "id": "XnlEuV0CVbqz"
      },
      "execution_count": 324,
      "outputs": []
    },
    {
      "cell_type": "code",
      "source": [
        "mlp = MLP()"
      ],
      "metadata": {
        "id": "F09DcTx-ZWlv"
      },
      "execution_count": 326,
      "outputs": []
    },
    {
      "cell_type": "code",
      "source": [
        "mlp.forward_cal(cnn_result, 128, target)"
      ],
      "metadata": {
        "id": "6wnaC1CCe17P"
      },
      "execution_count": 327,
      "outputs": []
    },
    {
      "cell_type": "code",
      "source": [],
      "metadata": {
        "id": "VZqFP1SXd3e7"
      },
      "execution_count": 328,
      "outputs": []
    }
  ]
}